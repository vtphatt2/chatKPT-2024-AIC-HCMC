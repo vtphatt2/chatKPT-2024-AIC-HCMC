{
 "cells": [
  {
   "cell_type": "code",
   "execution_count": 6,
   "metadata": {},
   "outputs": [],
   "source": [
    "import os \n",
    "import shutil\n",
    "import cv2 \n",
    "import numpy"
   ]
  },
  {
   "cell_type": "code",
   "execution_count": null,
   "metadata": {},
   "outputs": [],
   "source": [
    "def convert_str_to_yolo(string):\n",
    "    class_id, x_center, y_center, width, height = list(map(float, string.split(\" \")))\n",
    "    return [x_center, y_center, width, height]\n",
    "\n",
    "def convert_yolo_to_bbox(yolo_format):\n",
    "    x_center, y_center, width, height = yolo_format\n",
    "    x_min = x_center - width / 2\n",
    "    y_min = y_center - height / 2\n",
    "    x_max = x_center + width / 2\n",
    "    y_max = y_center + height / 2\n",
    "    \n",
    "    return [x_min, y_min, x_max, y_max]\n",
    "\n",
    "def convert_bbox_to_dbnet_bbox(bbox, width, height):\n",
    "    x_min, y_min, x_max, y_max = bbox\n",
    "    return [\n",
    "        int(x_min * width),\n",
    "        int(y_min * height),\n",
    "        int(x_max * width),\n",
    "        int(y_max * height)\n",
    "    ]\n",
    "\n",
    "def convert_int(x):\n",
    "    return int(x) if x >= 0 else 0\n",
    "\n",
    "def convert_yolo_file_to_dbnet_format(file_path, new_file_path, height, width):\n",
    "    assert os.path.exists(file_path), \"This path is not exists\"\n",
    "    result_file = open(new_file_path, 'w')\n",
    "    \n",
    "    with open(file_path, 'r') as f:\n",
    "        for line in f.readlines():\n",
    "            line = line[:-1]"
   ]
  }
 ],
 "metadata": {
  "kernelspec": {
   "display_name": "venv",
   "language": "python",
   "name": "python3"
  },
  "language_info": {
   "codemirror_mode": {
    "name": "ipython",
    "version": 3
   },
   "file_extension": ".py",
   "mimetype": "text/x-python",
   "name": "python",
   "nbconvert_exporter": "python",
   "pygments_lexer": "ipython3",
   "version": "3.11.7"
  }
 },
 "nbformat": 4,
 "nbformat_minor": 2
}
