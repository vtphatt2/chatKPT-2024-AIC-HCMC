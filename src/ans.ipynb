{
 "cells": [
  {
   "cell_type": "code",
   "execution_count": 2,
   "metadata": {},
   "outputs": [
    {
     "name": "stdout",
     "output_type": "stream",
     "text": [
      "video:  L10_V012 , Link:  https://youtube.com/watch?v=Zwv_ARY1BAE&t=285\n",
      "Time:  4 : 45\n",
      "video:  L10_V012 , Link:  https://youtube.com/watch?v=Zwv_ARY1BAE&t=288\n",
      "Time:  4 : 48\n",
      "video:  L10_V012 , Link:  https://youtube.com/watch?v=Zwv_ARY1BAE&t=291\n",
      "Time:  4 : 51\n",
      "video:  L10_V012 , Link:  https://youtube.com/watch?v=Zwv_ARY1BAE&t=290\n",
      "Time:  4 : 50\n",
      "video:  L11_V009 , Link:  https://youtube.com/watch?v=UK8gVojvwwk&t=1057\n",
      "Time:  17 : 37\n",
      "video:  L02_V027 , Link:  https://youtube.com/watch?v=NvuivO1B8Jo&t=503\n",
      "Time:  8 : 23\n",
      "video:  L02_V027 , Link:  https://youtube.com/watch?v=NvuivO1B8Jo&t=503\n",
      "Time:  8 : 23\n",
      "video:  L08_V007 , Link:  https://youtube.com/watch?v=yovyBcBe_p0&t=188\n",
      "Time:  3 : 8\n",
      "video:  L03_V001 , Link:  https://youtube.com/watch?v=gK2opN8WW74&t=205\n",
      "Time:  3 : 25\n",
      "video:  L07_V001 , Link:  https://youtube.com/watch?v=XAdEANRiNQ4&t=429\n",
      "Time:  7 : 9\n",
      "video:  L10_V018 , Link:  https://youtube.com/watch?v=WTiZmr5gp2w&t=282\n",
      "Time:  4 : 42\n",
      "Video not found\n",
      "video:  L06_V008 , Link:  https://youtube.com/watch?v=kQJP5oQETk8&t=334\n",
      "Time:  5 : 34\n",
      "video:  L04_V014 , Link:  https://youtube.com/watch?v=GN7NYas0ky8&t=208\n",
      "Time:  3 : 28\n"
     ]
    }
   ],
   "source": [
    "import os\n",
    "import json\n",
    "folder = \"../data/batch1/metadata\"\n",
    "while True:\n",
    "    url = {}\n",
    "    check = False\n",
    "    x = input(\"video\")\n",
    "    y = int(input(\"frame_id\"))\n",
    "    for filename in os.listdir(folder):\n",
    "        if filename.endswith(\".json\") and filename.startswith(x):\n",
    "            with open(os.path.join(folder, filename), 'r', encoding='utf-8') as f:\n",
    "                data = json.load(f)\n",
    "                url = data[\"watch_url\"]+ '&t=' + str(y//25)\n",
    "                print(\"video: \",x,\", Link: \",url,)\n",
    "                check=True\n",
    "            break\n",
    "    if check == False:\n",
    "        print(\"Video not found\")\n",
    "    else:\n",
    "        a= y/25\n",
    "        minutes = int(a/60)\n",
    "        seconds = int(a%60)\n",
    "        print(\"Time: \", minutes, \":\", seconds)"
   ]
  }
 ],
 "metadata": {
  "kernelspec": {
   "display_name": "Python 3",
   "language": "python",
   "name": "python3"
  },
  "language_info": {
   "codemirror_mode": {
    "name": "ipython",
    "version": 3
   },
   "file_extension": ".py",
   "mimetype": "text/x-python",
   "name": "python",
   "nbconvert_exporter": "python",
   "pygments_lexer": "ipython3",
   "version": "3.12.0"
  }
 },
 "nbformat": 4,
 "nbformat_minor": 2
}
