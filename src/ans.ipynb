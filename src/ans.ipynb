{
 "cells": [
  {
   "cell_type": "code",
   "execution_count": 1,
   "metadata": {},
   "outputs": [
    {
     "name": "stdout",
     "output_type": "stream",
     "text": [
      "Video not found\n"
     ]
    },
    {
     "ename": "ValueError",
     "evalue": "invalid literal for int() with base 10: ''",
     "output_type": "error",
     "traceback": [
      "\u001b[1;31m---------------------------------------------------------------------------\u001b[0m",
      "\u001b[1;31mValueError\u001b[0m                                Traceback (most recent call last)",
      "Cell \u001b[1;32mIn[1], line 8\u001b[0m\n\u001b[0;32m      6\u001b[0m check \u001b[38;5;241m=\u001b[39m \u001b[38;5;28;01mFalse\u001b[39;00m\n\u001b[0;32m      7\u001b[0m x \u001b[38;5;241m=\u001b[39m \u001b[38;5;28minput\u001b[39m(\u001b[38;5;124m\"\u001b[39m\u001b[38;5;124mvideo\u001b[39m\u001b[38;5;124m\"\u001b[39m)\n\u001b[1;32m----> 8\u001b[0m y \u001b[38;5;241m=\u001b[39m \u001b[38;5;28;43mint\u001b[39;49m\u001b[43m(\u001b[49m\u001b[38;5;28;43minput\u001b[39;49m\u001b[43m(\u001b[49m\u001b[38;5;124;43m\"\u001b[39;49m\u001b[38;5;124;43mframe_id\u001b[39;49m\u001b[38;5;124;43m\"\u001b[39;49m\u001b[43m)\u001b[49m\u001b[43m)\u001b[49m\n\u001b[0;32m      9\u001b[0m \u001b[38;5;66;03m#cut string to get video name\u001b[39;00m\n\u001b[0;32m     10\u001b[0m a \u001b[38;5;241m=\u001b[39m x[\u001b[38;5;241m1\u001b[39m:\u001b[38;5;241m3\u001b[39m]\n",
      "\u001b[1;31mValueError\u001b[0m: invalid literal for int() with base 10: ''"
     ]
    }
   ],
   "source": [
    "import os\n",
    "import json\n",
    "folder = {}\n",
    "while True:\n",
    "    url = {}\n",
    "    check = False\n",
    "    x = input(\"video\")\n",
    "    y = int(input(\"frame_id\"))\n",
    "    #cut string to get video name\n",
    "    a = x[1:3]\n",
    "    a = int(a)\n",
    "    if a<13:\n",
    "        folder = \"../data/batch1/metadata\"\n",
    "    else:\n",
    "        folder = \"../data/batch2/metadata\"\n",
    "    for filename in os.listdir(folder):\n",
    "        if filename.endswith(\".json\") and filename.startswith(x):\n",
    "            with open(os.path.join(folder, filename), 'r', encoding='utf-8') as f:\n",
    "                data = json.load(f)\n",
    "                url = data[\"watch_url\"]+ '&t=' + str(y//25)\n",
    "                print(\"video: \",x,\", Link: \",url,)\n",
    "                check=True\n",
    "            break\n",
    "    if check == False:\n",
    "        print(\"Video not found\")\n",
    "    else:\n",
    "        a= y/25\n",
    "        minutes = int(a/30)\n",
    "        seconds = int(a%60)\n",
    "        print(\"Time: \", minutes, \":\", seconds)"
   ]
  }
 ],
 "metadata": {
  "kernelspec": {
   "display_name": "Python 3",
   "language": "python",
   "name": "python3"
  },
  "language_info": {
   "codemirror_mode": {
    "name": "ipython",
    "version": 3
   },
   "file_extension": ".py",
   "mimetype": "text/x-python",
   "name": "python",
   "nbconvert_exporter": "python",
   "pygments_lexer": "ipython3",
   "version": "3.12.0"
  }
 },
 "nbformat": 4,
 "nbformat_minor": 2
}
