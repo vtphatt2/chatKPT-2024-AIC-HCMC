{
 "cells": [
  {
   "cell_type": "code",
   "execution_count": 1,
   "metadata": {},
   "outputs": [],
   "source": [
    "from ipycanvas import Canvas, hold_canvas\n",
    "from ipywidgets import Button, VBox, HBox"
   ]
  },
  {
   "cell_type": "code",
   "execution_count": 2,
   "metadata": {},
   "outputs": [],
   "source": [
    "canvas = Canvas(width=600, height=400, sync_image_data=True)\n",
    "bounding_box = (0, 0, 600, 400)\n",
    "\n",
    "with hold_canvas(canvas):\n",
    "    canvas.stroke_style = 'red' \n",
    "    canvas.stroke_rect(*bounding_box)\n",
    "\n",
    "previous_position = None\n",
    "\n",
    "def initialize_canvas():\n",
    "    with hold_canvas(canvas):\n",
    "        canvas.fill_style = 'white'\n",
    "        canvas.fill_rect(0, 0, canvas.width, canvas.height)\n",
    "        canvas.stroke_style = 'red'\n",
    "        canvas.stroke_rect(*bounding_box)\n",
    "\n",
    "def is_inside_box(x, y):\n",
    "    x0, y0, width, height = bounding_box\n",
    "    return x0 <= x <= x0 + width and y0 <= y0 + height\n",
    "\n",
    "def on_mouse_down(x, y):\n",
    "    global previous_position\n",
    "    if is_inside_box(x, y):  \n",
    "        previous_position = (x, y)\n",
    "\n",
    "def on_mouse_move(x, y):\n",
    "    global previous_position\n",
    "    if previous_position and is_inside_box(x, y):\n",
    "        with hold_canvas(canvas):\n",
    "            canvas.line_width = 3\n",
    "            canvas.stroke_style = 'black' \n",
    "            canvas.stroke_line(previous_position[0], previous_position[1], x, y)\n",
    "        previous_position = (x, y)\n",
    "\n",
    "def on_mouse_up(x, y):\n",
    "    global previous_position\n",
    "    previous_position = None \n",
    "\n",
    "def save_image(change=None):\n",
    "    file_name = \"my_drawing.png\"\n",
    "    canvas.to_file(file_name)\n",
    "\n",
    "def clear_canvas(change=None):\n",
    "    with hold_canvas(canvas):\n",
    "        canvas.clear() \n",
    "        canvas.stroke_style = 'red'\n",
    "        canvas.stroke_rect(*bounding_box)\n",
    "        initialize_canvas()"
   ]
  },
  {
   "cell_type": "code",
   "execution_count": 3,
   "metadata": {},
   "outputs": [
    {
     "data": {
      "application/vnd.jupyter.widget-view+json": {
       "model_id": "7ded8a17803a48a3ad9377140cafad3f",
       "version_major": 2,
       "version_minor": 0
      },
      "text/plain": [
       "VBox(children=(Canvas(height=400, sync_image_data=True, width=600), HBox(children=(Button(button_style='succes…"
      ]
     },
     "metadata": {},
     "output_type": "display_data"
    },
    {
     "ename": "RuntimeError",
     "evalue": "No image data to save, please be sure that ``sync_image_data`` is set to True",
     "output_type": "error",
     "traceback": [
      "\u001b[0;31m---------------------------------------------------------------------------\u001b[0m",
      "\u001b[0;31mRuntimeError\u001b[0m                              Traceback (most recent call last)",
      "Cell \u001b[0;32mIn[2], line 41\u001b[0m, in \u001b[0;36msave_image\u001b[0;34m(change)\u001b[0m\n\u001b[1;32m     39\u001b[0m \u001b[38;5;28;01mdef\u001b[39;00m \u001b[38;5;21msave_image\u001b[39m(change\u001b[38;5;241m=\u001b[39m\u001b[38;5;28;01mNone\u001b[39;00m):\n\u001b[1;32m     40\u001b[0m     file_name \u001b[38;5;241m=\u001b[39m \u001b[38;5;124m\"\u001b[39m\u001b[38;5;124mmy_drawing.png\u001b[39m\u001b[38;5;124m\"\u001b[39m\n\u001b[0;32m---> 41\u001b[0m     \u001b[43mcanvas\u001b[49m\u001b[38;5;241;43m.\u001b[39;49m\u001b[43mto_file\u001b[49m\u001b[43m(\u001b[49m\u001b[43mfile_name\u001b[49m\u001b[43m)\u001b[49m\n",
      "File \u001b[0;32m~/Library/Python/3.9/lib/python/site-packages/ipycanvas/canvas.py:424\u001b[0m, in \u001b[0;36m_CanvasBase.to_file\u001b[0;34m(self, filename)\u001b[0m\n\u001b[1;32m    419\u001b[0m \u001b[38;5;250m\u001b[39m\u001b[38;5;124;03m\"\"\"Save the current Canvas image to a PNG file.\u001b[39;00m\n\u001b[1;32m    420\u001b[0m \n\u001b[1;32m    421\u001b[0m \u001b[38;5;124;03mThis will raise an exception if there is no image to save (_e.g._ if ``image_data`` is ``None``).\u001b[39;00m\n\u001b[1;32m    422\u001b[0m \u001b[38;5;124;03m\"\"\"\u001b[39;00m\n\u001b[1;32m    423\u001b[0m \u001b[38;5;28;01mif\u001b[39;00m \u001b[38;5;28mself\u001b[39m\u001b[38;5;241m.\u001b[39mimage_data \u001b[38;5;129;01mis\u001b[39;00m \u001b[38;5;28;01mNone\u001b[39;00m:\n\u001b[0;32m--> 424\u001b[0m     \u001b[38;5;28;01mraise\u001b[39;00m \u001b[38;5;167;01mRuntimeError\u001b[39;00m(\n\u001b[1;32m    425\u001b[0m         \u001b[38;5;124m\"\u001b[39m\u001b[38;5;124mNo image data to save, please be sure that ``sync_image_data`` is set to True\u001b[39m\u001b[38;5;124m\"\u001b[39m\n\u001b[1;32m    426\u001b[0m     )\n\u001b[1;32m    427\u001b[0m \u001b[38;5;28;01mif\u001b[39;00m \u001b[38;5;129;01mnot\u001b[39;00m filename\u001b[38;5;241m.\u001b[39mendswith(\u001b[38;5;124m\"\u001b[39m\u001b[38;5;124m.png\u001b[39m\u001b[38;5;124m\"\u001b[39m) \u001b[38;5;129;01mand\u001b[39;00m \u001b[38;5;129;01mnot\u001b[39;00m filename\u001b[38;5;241m.\u001b[39mendswith(\u001b[38;5;124m\"\u001b[39m\u001b[38;5;124m.PNG\u001b[39m\u001b[38;5;124m\"\u001b[39m):\n\u001b[1;32m    428\u001b[0m     \u001b[38;5;28;01mraise\u001b[39;00m \u001b[38;5;167;01mRuntimeError\u001b[39;00m(\u001b[38;5;124m\"\u001b[39m\u001b[38;5;124mCan only save to a PNG file\u001b[39m\u001b[38;5;124m\"\u001b[39m)\n",
      "\u001b[0;31mRuntimeError\u001b[0m: No image data to save, please be sure that ``sync_image_data`` is set to True"
     ]
    }
   ],
   "source": [
    "initialize_canvas()\n",
    "canvas.on_mouse_down(on_mouse_down)\n",
    "canvas.on_mouse_move(on_mouse_move)\n",
    "canvas.on_mouse_up(on_mouse_up)\n",
    "\n",
    "save_button = Button(description=\"Save Drawing\", button_style='success')\n",
    "save_button.on_click(save_image)\n",
    "\n",
    "clear_button = Button(description=\"Clear Drawing\", button_style='danger')\n",
    "clear_button.on_click(clear_canvas)\n",
    "\n",
    "display(VBox([canvas, HBox([save_button, clear_button])]))"
   ]
  }
 ],
 "metadata": {
  "kernelspec": {
   "display_name": "Python 3",
   "language": "python",
   "name": "python3"
  },
  "language_info": {
   "codemirror_mode": {
    "name": "ipython",
    "version": 3
   },
   "file_extension": ".py",
   "mimetype": "text/x-python",
   "name": "python",
   "nbconvert_exporter": "python",
   "pygments_lexer": "ipython3",
   "version": "3.9.6"
  }
 },
 "nbformat": 4,
 "nbformat_minor": 2
}
