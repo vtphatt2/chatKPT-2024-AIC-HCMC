{
 "cells": [
  {
   "cell_type": "code",
   "execution_count": 1,
   "metadata": {},
   "outputs": [],
   "source": [
    "from ipycanvas import Canvas, hold_canvas\n",
    "from ipywidgets import Button, VBox, HBox"
   ]
  },
  {
   "cell_type": "code",
   "execution_count": 2,
   "metadata": {},
   "outputs": [],
   "source": [
    "canvas = Canvas(width=600, height=400, sync_image_data=True)\n",
    "bounding_box = (0, 0, 600, 400)\n",
    "\n",
    "with hold_canvas(canvas):\n",
    "    canvas.stroke_style = 'red' \n",
    "    canvas.stroke_rect(*bounding_box)\n",
    "\n",
    "previous_position = None\n",
    "\n",
    "def initialize_canvas():\n",
    "    with hold_canvas(canvas):\n",
    "        canvas.fill_style = 'white'\n",
    "        canvas.fill_rect(0, 0, canvas.width, canvas.height)\n",
    "        canvas.stroke_style = 'red'\n",
    "        canvas.stroke_rect(*bounding_box)\n",
    "\n",
    "def is_inside_box(x, y):\n",
    "    x0, y0, width, height = bounding_box\n",
    "    return x0 <= x <= x0 + width and y0 <= y0 + height\n",
    "\n",
    "def on_mouse_down(x, y):\n",
    "    global previous_position\n",
    "    if is_inside_box(x, y):  \n",
    "        previous_position = (x, y)\n",
    "\n",
    "def on_mouse_move(x, y):\n",
    "    global previous_position\n",
    "    if previous_position and is_inside_box(x, y):\n",
    "        with hold_canvas(canvas):\n",
    "            canvas.line_width = 3\n",
    "            canvas.stroke_style = 'black' \n",
    "            canvas.stroke_line(previous_position[0], previous_position[1], x, y)\n",
    "        previous_position = (x, y)\n",
    "\n",
    "def on_mouse_up(x, y):\n",
    "    global previous_position\n",
    "    previous_position = None \n",
    "\n",
    "def save_image(change=None):\n",
    "    file_name = \"my_drawing.png\"\n",
    "    canvas.to_file(file_name)\n",
    "\n",
    "def clear_canvas(change=None):\n",
    "    with hold_canvas(canvas):\n",
    "        canvas.clear() \n",
    "        canvas.stroke_style = 'red'\n",
    "        canvas.stroke_rect(*bounding_box)\n",
    "        initialize_canvas()"
   ]
  },
  {
   "cell_type": "code",
   "execution_count": 3,
   "metadata": {},
   "outputs": [
    {
     "data": {
      "application/vnd.jupyter.widget-view+json": {
       "model_id": "419c381da06344b2ba6e3afaaed33845",
       "version_major": 2,
       "version_minor": 0
      },
      "text/plain": [
       "VBox(children=(Canvas(height=400, sync_image_data=True, width=600), HBox(children=(Button(button_style='succes…"
      ]
     },
     "metadata": {},
     "output_type": "display_data"
    }
   ],
   "source": [
    "initialize_canvas()\n",
    "canvas.on_mouse_down(on_mouse_down)\n",
    "canvas.on_mouse_move(on_mouse_move)\n",
    "canvas.on_mouse_up(on_mouse_up)\n",
    "\n",
    "save_button = Button(description=\"Save Drawing\", button_style='success')\n",
    "save_button.on_click(save_image)\n",
    "\n",
    "clear_button = Button(description=\"Clear Drawing\", button_style='danger')\n",
    "clear_button.on_click(clear_canvas)\n",
    "\n",
    "display(VBox([canvas, HBox([save_button, clear_button])]))"
   ]
  }
 ],
 "metadata": {
  "kernelspec": {
   "display_name": "Python 3",
   "language": "python",
   "name": "python3"
  },
  "language_info": {
   "codemirror_mode": {
    "name": "ipython",
    "version": 3
   },
   "file_extension": ".py",
   "mimetype": "text/x-python",
   "name": "python",
   "nbconvert_exporter": "python",
   "pygments_lexer": "ipython3",
   "version": "3.9.6"
  }
 },
 "nbformat": 4,
 "nbformat_minor": 2
}
