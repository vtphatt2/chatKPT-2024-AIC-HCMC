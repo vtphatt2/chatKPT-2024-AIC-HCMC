{
 "cells": [
  {
   "cell_type": "code",
   "execution_count": 1,
   "metadata": {},
   "outputs": [],
   "source": [
    "import numpy as np"
   ]
  },
  {
   "cell_type": "code",
   "execution_count": 8,
   "metadata": {},
   "outputs": [],
   "source": [
    "a = np.load('/Users/VoThinhPhat/Desktop/chatKPT-2024-AIC-HCMC/data/batch1/clip-features-14/L01_V001.npy')"
   ]
  },
  {
   "cell_type": "code",
   "execution_count": 9,
   "metadata": {},
   "outputs": [
    {
     "data": {
      "text/plain": [
       "array([[-0.05173424,  0.02633899,  0.02554997, ..., -0.00500372,\n",
       "        -0.02617679, -0.00770709],\n",
       "       [-0.03308231, -0.01873602,  0.01675033, ..., -0.02271268,\n",
       "        -0.02653352,  0.00290881],\n",
       "       [-0.00406677,  0.06968837, -0.0100555 , ...,  0.00448065,\n",
       "         0.02454379,  0.01927141],\n",
       "       ...,\n",
       "       [ 0.01620092,  0.00722485, -0.0103286 , ..., -0.01198795,\n",
       "        -0.00287302,  0.0013483 ],\n",
       "       [-0.01204246,  0.04468968, -0.0006139 , ..., -0.01207888,\n",
       "         0.02024429,  0.01864753],\n",
       "       [ 0.02842246,  0.02778178,  0.02948789, ..., -0.02183204,\n",
       "         0.02154127, -0.01415356]], dtype=float32)"
      ]
     },
     "execution_count": 9,
     "metadata": {},
     "output_type": "execute_result"
    }
   ],
   "source": [
    "a"
   ]
  }
 ],
 "metadata": {
  "kernelspec": {
   "display_name": "Python 3",
   "language": "python",
   "name": "python3"
  },
  "language_info": {
   "codemirror_mode": {
    "name": "ipython",
    "version": 3
   },
   "file_extension": ".py",
   "mimetype": "text/x-python",
   "name": "python",
   "nbconvert_exporter": "python",
   "pygments_lexer": "ipython3",
   "version": "3.9.6"
  }
 },
 "nbformat": 4,
 "nbformat_minor": 2
}
