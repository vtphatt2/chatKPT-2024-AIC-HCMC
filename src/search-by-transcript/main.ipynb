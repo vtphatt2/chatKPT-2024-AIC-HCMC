{
 "cells": [
  {
   "cell_type": "code",
   "execution_count": 1,
   "metadata": {},
   "outputs": [],
   "source": [
    "import pickle"
   ]
  },
  {
   "cell_type": "code",
   "execution_count": 2,
   "metadata": {},
   "outputs": [],
   "source": [
    "def load_transcript_binary(file_path):\n",
    "    with open(file_path, 'rb') as file:\n",
    "        transcript = pickle.load(file)\n",
    "    return transcript"
   ]
  },
  {
   "cell_type": "code",
   "execution_count": 3,
   "metadata": {},
   "outputs": [],
   "source": [
    "a = load_transcript_binary('/Users/VoThinhPhat/Desktop/chatKPT-2024-AIC-HCMC/src/search-by-transcript/transcript/L01_V001.bin')"
   ]
  },
  {
   "cell_type": "code",
   "execution_count": 4,
   "metadata": {},
   "outputs": [],
   "source": [
    "def time_to_seconds(time_str: str) -> int:\n",
    "    minutes, seconds = map(int, time_str.split(':'))\n",
    "    return minutes * 60 + seconds\n",
    "\n",
    "def find_closest_tuple_index(tuples_list, frame_id, fps):\n",
    "    target_time = frame_id / fps \n",
    "    closest_index = None\n",
    "    closest_diff = float('inf')\n",
    "    \n",
    "    for index, (time_str, _) in enumerate(tuples_list):\n",
    "        current_time = time_to_seconds(time_str)\n",
    "        diff = abs(current_time - target_time)\n",
    "        \n",
    "        if diff < closest_diff:\n",
    "            closest_diff = diff\n",
    "            closest_index = index\n",
    "            \n",
    "    return closest_index"
   ]
  },
  {
   "cell_type": "code",
   "execution_count": null,
   "metadata": {},
   "outputs": [],
   "source": [
    "a"
   ]
  },
  {
   "cell_type": "code",
   "execution_count": null,
   "metadata": {},
   "outputs": [],
   "source": [
    "index = find_closest_tuple_index(a, 25, 25)\n",
    "\n",
    "index"
   ]
  },
  {
   "cell_type": "code",
   "execution_count": null,
   "metadata": {},
   "outputs": [],
   "source": [
    "def concatenate_surrounding_strings(tuples_list, frame_id, fps):\n",
    "    \"\"\"Concatenate strings from the closest tuple and its neighbors.\"\"\"\n",
    "    closest_index = find_closest_tuple_index(tuples_list, frame_id, fps)\n",
    "    \n",
    "    if closest_index is None:\n",
    "        return ''\n",
    "    \n",
    "    # Get indices for concatenation\n",
    "    start_index = max(0, closest_index - 1)\n",
    "    end_index = min(len(tuples_list), closest_index + 2)  # +2 to include the next one\n",
    "    \n",
    "    # Extract the strings to concatenate\n",
    "    strings_to_concatenate = [tup[1] for tup in tuples_list[start_index:end_index]]\n",
    "    \n",
    "    return ' '.join(strings_to_concatenate)\n",
    "\n",
    "s = concatenate_surrounding_strings(a, 25, 25)\n",
    "s"
   ]
  }
 ],
 "metadata": {
  "kernelspec": {
   "display_name": "Python 3",
   "language": "python",
   "name": "python3"
  },
  "language_info": {
   "codemirror_mode": {
    "name": "ipython",
    "version": 3
   },
   "file_extension": ".py",
   "mimetype": "text/x-python",
   "name": "python",
   "nbconvert_exporter": "python",
   "pygments_lexer": "ipython3",
   "version": "3.9.6"
  }
 },
 "nbformat": 4,
 "nbformat_minor": 2
}
