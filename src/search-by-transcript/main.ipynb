{
 "cells": [
  {
   "cell_type": "code",
   "execution_count": 1,
   "metadata": {},
   "outputs": [],
   "source": [
    "import pickle"
   ]
  },
  {
   "cell_type": "code",
   "execution_count": 2,
   "metadata": {},
   "outputs": [],
   "source": [
    "def load_transcript_binary(file_path):\n",
    "    with open(file_path, 'rb') as file:\n",
    "        transcript = pickle.load(file)\n",
    "    return transcript"
   ]
  },
  {
   "cell_type": "code",
   "execution_count": 3,
   "metadata": {},
   "outputs": [],
   "source": [
    "a = load_transcript_binary('/Users/VoThinhPhat/Desktop/chatKPT-2024-AIC-HCMC/src/search-by-transcript/transcript/L01_V001.bin')"
   ]
  },
  {
   "cell_type": "code",
   "execution_count": 4,
   "metadata": {},
   "outputs": [],
   "source": [
    "def time_to_seconds(time_str: str) -> int:\n",
    "    minutes, seconds = map(int, time_str.split(':'))\n",
    "    return minutes * 60 + seconds\n",
    "\n",
    "def find_closest_tuple_index(tuples_list, frame_id, fps):\n",
    "    target_time = frame_id / fps \n",
    "    closest_index = None\n",
    "    closest_diff = float('inf')\n",
    "    \n",
    "    for index, (time_str, _) in enumerate(tuples_list):\n",
    "        current_time = time_to_seconds(time_str)\n",
    "        diff = abs(current_time - target_time)\n",
    "        \n",
    "        if diff < closest_diff:\n",
    "            closest_diff = diff\n",
    "            closest_index = index\n",
    "            \n",
    "    return closest_index"
   ]
  },
  {
   "cell_type": "code",
   "execution_count": 5,
   "metadata": {},
   "outputs": [
    {
     "data": {
      "text/plain": [
       "[('00:06',\n",
       "  'Kính chào quý vị Rất hân hạnh được gặp lại quý vị trong chương trình 60 giây của đ truyền hình thành phố Hồ Chí Minh chương trình Sáng nay thứ ba ngày 31 tháng 10 sẽ chuyển đến quý vị những nội dung đáng chú ý sau [âm nhạc] đây các tỉnh miền Trung chủ động ứng phó với mưa lũ giảm thiểu thiệt hại về người và của Tính B tre công bố tình huống'),\n",
       " ('00:26',\n",
       "  'khẩn cấp sạc lỡ xâm thực bờ biển ở huyện Ba trip và giáo công trường đang xây dựng ở ham buốc của Đức ít nhất ba công nhân thiệt mạng thưa quý vị hai ngày qua các tỉnh miền Trung có mưa lớn có nơi trên 400 mm gây ngập lục ở các khu dân cư vùng trủng thấp mưa lũ cũng khiến giao thông bị ách tắc ở một số tiếng đường tại tỉnh Hà Tĩnh Hai phụ nữ và một trẻ em ở huyện'),\n",
       " ('00:49',\n",
       "  'Hương Khê đang đi trên đường ngập thì sảy chân vào bũng sâu bị nước cuốn mất tích khoảng 10 gi ngày 30 tháng 10 chị Tống Thị trang 33 tuổi và chịn th ho 31 tuổi trú xã Hà Linh huyện Hương Khê đi làm ở trại gà trên đường về nhà thì bị Nước Lũ cuốn mất tích đến cuối giờ chiều thi thể chị Trang được tìm thấy đến tối qua hàng chục người vẫn đang tìm kiếm chị Hoa còn tại xã Hương Thủy lúc 15:30'),\n",
       " ('01:17',\n",
       "  'cùng ngày em Nguyễn Văn Dũng 13 tuổi đi bộ trên đường ngập nước gần nửa mét thì bị sẩy chân và vũng nước sâu và bị nhấn chìm đến hơn 20:30 thi thể nạn nhân được tìm thấy tại huyện C Lộc chính quyền cũng kịp thời dùng xồng máy tiếp cận giả cứu chính công nhân đang thi công cao tốc bị nước lũ cô lập giữa Lãng trại gần sông già đoạn qua xã Sơn Lộc trước đó do mưa nhỏ nên những người này chủ quan sau'),\n",
       " ('01:41',\n",
       "  'đó nước dân nhanh không kịp rời đi trong đợt mưa lớn lần này ảnh hưởng nặng nhất là Hà Tĩnh gần 500 nhà dân bị ngập cao hơn nửa mét đường Hồ Chí Minh quốc lộ 15 ngập từ 30 đến 70 cm đường sắc Bắc Nam gián đoạn V sạc lở hơn 4500 học sinh phải nghỉ học Dự báo mưa ở Hà Tĩnh còn kéo dài tới ngày 2 tháng 11 trước diễn biến phức tạp của tình hình mưa lũ ban chỉ đạo quốc gia về'),\n",
       " ('02:08',\n",
       "  'phòng chống thiên tài yêu cầu các tỉnh từ Nghệ An đến Quảng Ngãi theo dõi chặt chẽ dự báo thời tiết cảnh báo về mưa lớn ngập lục lũ quét sạc lỡ đất thông tin kịp thời đến các cấp chính quyền người dân biết để chủ động phòng tránh mưa lũ tại Hà tỉnh đã làm nhiều điểm bị sạc lỡ và đất đá tràn lên đường rây tiếng đường sắt Bắc Nam bị chỉ cắt và bắt buộc phải cấm chạy tàu qua vào rả sáng ngày 30'),\n",
       " ('02:29',\n",
       "  'tháng 10 ngay sau khi sự cố xảy ra các đơn vị đã nhanh chóng giải tỏa hành khách tập trung mọi nguồn lực để khắc phục sự cố hai chuyến tàu se1 từ Hà Nội vào và se20 từ Đà Nẵng ra phải những hoạt động với khoảng gần 400 hành khách ông Trần Anh Tuấn phó tổng giám đốc tổng công ty đường sắc Việt Nam cho biết toàn bộ hành khách đã được chuyển tại bằng xe ô tô'),\n",
       " ('02:52',\n",
       "  'chuyển qua tàu để chi duyển tiếp theo lịch trình mà đồng thời tổng công ty cũng đã chỉ đạo các đơn vị chăm sóc đầy đủ về lướng thực thực phẩm dự kiến của chúng tôi là trong đêm nay thì sẽ thông Tiến ch từ tàu này Hôm qua hai tuyến là Hà Nội đi Sài Gòn và Sài Gòn đi Hà Nội ngày 30 tháng 10 chính quyền tệ Bến Tre đã công bố tình huống khẩn cấp sạc lỡ xâm thực bờ biển ở huyện Ba Tri khẩn'),\n",
       " ('03:14',\n",
       "  'trương triển khai các biện pháp ứng phó khu vực bị sạc lỡ xâm thực nghiêm trọng thuộc địa bàn xã Bảo Thuận chiều dài khoảng 4,7 km làm ảnh hưởng trực tiếp đến 115 hộ dân làm hư hại 15 căn nhà Sạc lỡ cũng làm hư hỏng hoàn toàn 100 m đường bê tông 650 m Bờ bao diện tích đất bị ảnh hưởng khoảng 535 ha rên đất rừng phòng hộ ven biển mất 16 ha các cơ quan chức năng đang triển khai các biện pháp'),\n",
       " ('03:37',\n",
       "  'khẩn cấp để ứng phó và khắc phục hậu quả sơ tán khẩn cấp người và tài sản ra khỏi khu vực sạc lỡ nguy hiểm thưa quý vị hàng năm khi nước lũ tràn về người dân đồng bằng sông Cửu Long lại nhộn nhịp thu hoạch sản vật mùa nước nổi đây cũng là thời điểm các địa phương trong huyện Phụng Hiệp Tỉnh Hậu Giang tổ chức hội thi đẩy côn bắt cá mùa nước nổi qua đó duy trì và bảo tồn ngành'),\n",
       " ('04:06',\n",
       "  'nghề đánh bắt cũng như tuyên truyền nâng cao ý thức cho người dân trong việc khai thác nguồn Lệ Thủy sản đúng quy định gần 20 năm làm nghề đẩy côn bắt cá năm nay ông Huỳnh Chí Khải được chọn làm đại diện tham gia Tranh Tài tới cái mùa nước nổi á là ai cũng vẫn ra ruộng kiếm cá hết á Thấy nó hấp dẫn lắm côn là dụng cụ được làm bằng những cọng sắc nhỏ MN và hai đoạn tre dài trước mũi ghe khi'),\n",
       " ('04:32',\n",
       "  'người đẩy côn cho ghe lau về phía trước Thanh côn sắt chạm cá cá chuối tạo thành một vùng bông bóng nước lúc đó chỉ việc lội xuống dùng nơm bắt cá hôn kéo côn rồi đó nó cũng có ý nghĩa chỗ ấp cùng với kết hợp với ban xã và Mỹ để triển khai cái mô hình này kéo côn này nó mới gọi là cá lớn thì cái ngồn cá nhỏ thì nó được bảo đảm năm nay thì hyện muốn là nâng lên cái quy mô cấp hyện đó là tất'),\n",
       " ('04:58',\n",
       "  'cả 15 xã thị trấn trên địa bàn đều có tham gia là quảng bá về hình ảnh đất và người phụ Hiệp thời gian tới huyện Phụng Hiệp sẽ phát triển mô hình thành một hình thức du lịch trải nghiệm cho du khách tham quan khám phá hình thức đánh bắt truyền thống mùa đức nổi [âm nhạc] này những tập tiếp theo của bộ phim Dâu Bể mùa xưa đã đi vào giai đoạn cao trào'),\n",
       " ('05:25',\n",
       "  'ở tập 11 chuyện tình tây ba giữa hai anh em Hiếu và nghĩa có bước mới bông và Hiếu dầ mở lòng cho nhau cơ hội phát triển tình cảm riêng nghĩa vẫn ôm mối Tưng tư trong lòng khiến bậc làm cha như ông Bá đau lòng một vụ hành hung bất ngờ diễn ra ở tiệm đèn kéo quân của Nghĩa ông Bá và nghĩa Lo lắng cờ cứu trong khi đó bệnh tình của Hiếu có những chuyển biến xấu bà bá tiếp tục bên trọng bên'),\n",
       " ('05:49',\n",
       "  'khinh với hai anh em Hiếu Nghĩa mời quý vị đón xem những tình tiết hấp dẫn trong tập 11 phim Dâu Bể mùa xưa phát sóng lúc 930 hôm nay 31 tháng 10 trên kênh [âm nhạc] HTV7 trong phần An ninh trật tự lên cơ tâ thần nam thanh niên dùng rựa truy sát ba người trong gia đình lực lượng chức năng thu giữ gần 1,5'),\n",
       " ('06:19',\n",
       "  'tấn thực phẩm đông lạnh hết hàng sử dụng bốc mùi ôi thêu chương trình tiếp tục với các thông tin an ninh tr tự trong lúc lên cơn tâm thần nam thanh niên ở tỉnh Bình Định dùng rựa truy sát ba người trong gia đình khiến cha và anh ruột tử vong còn mẹ bị thương rất nặng chiều 30 tháng 10 công an tỉnh Bình Định cho biết đang tạm giữ hình sự Đối tượng Hồ Thanh Cường 34'),\n",
       " ('06:43',\n",
       "  'tuổi để điều tra về hành vi giết người khoảng 9:30 sáng ngày 30 tháng 10 cường bất ngờ dùng dao chém vào cha mẹ ruột V anh ruột Hậu quả người cha tử vong tại chỗ anh trai được đưa đi cấp cứu tại trung tâm y tế thị xã An nhơ nhưng Tứ dong trên đường đi còn người mẹ bị thương rất nặng hiện đang được cấp cứu tại bệnh viện đa khoa tỉnh Bình Định theo lãnh đạo Ủy ban nhân dân thị xã An'),\n",
       " ('07:06',\n",
       "  'Nhân Cường là người bị tâm thần phân liệt đang điều trị bở tâm thần ngoại trú công an thành phố Tây Ninh cho biết đang tạm giữ hình sự ba đối tượng để điều tra về hành vi trộm cấp tài sản và tiêu thụ tài sản do người khác phạm tội mà có đó là hỳ Thanh son sinh năm 1993 và Nguyễn Trung Hậu sinh năm 2001 cùng ngụ xã chà là và độ Thế Kiệt sinh năm 1984'),\n",
       " ('07:31',\n",
       "  'ngụ xã cầu khởi huyện Dương Minh Châu hôm 29 tháng 10 Công an nhận tin báo của người dân về việc vườn Mai bị bốn tin trộm CT khóa cổng rào đột nhập lấy trộm một cây mai vàng lớn có giá trị 150 triệu đồng lực lượng công an phố hợp truy bắt được son và hậu các đối tượng khai nhận son và hậu cùng hai đối tượng khác đục nhập nhà anh s trộm mai bán được 14 triệu đồng rồi chia nhau tiêu'),\n",
       " ('07:54',\n",
       "  'xài Công an thành phố Tây Ninh Đang làm rõ vụ việc và trùy bắt các đối tượng còn lại ngày 30 tháng 10 công an tỉnh Quảng Nam cho biết vừa phát hiện và bắt quả tang một ô tô khách 16 chỗ vận chuyển gần 5000 Viên pháo lậu lúc 23 gi ngày 29 tháng 10 tại thị trấn Thành Mỹ huyện Nam Giang lực lượng chức năng cho dừng xe ô tô khách 16 chỗ'),\n",
       " ('08:18',\n",
       "  'đang lưu thông theo hướng contum đi Đà Nẵng qua kiểm tra phát hiện trên xe chở ba thùng xố bên trong có 96 hộp pháo tổng cộng 4704 viên tại thời điểm kiểm tra tài xế không xuất trình được giấy tờ chứng minh ngn gốc số pháo trên lực lượng chức năng đã lập biên bản bà giao vụ việc cho công an huyện Nam Giang để tiếp tục điều tra xử'),\n",
       " ('08:38',\n",
       "  'lý gần 1,5 tấn thực phẩm đông lạnh hết hạng sử dụng bốc mũi ô thu vừa bị lực lượng chức năng tỉnh Bắc Cạn phát hiện và thù giữ ngày 30 tháng 10 kiểm tra một kho hàng đông lạnh trên phường sông Cầu lực lượng chức năng phát hiện nhiều sản phẩm đã hết thời hạn sử dụng biến màu Ôi thêu bút mùi hôi có trọng lượng gần 1,5 tấ đó là các loại cá thịt ba chỉ rút xương'),\n",
       " ('09:02',\n",
       "  'sườn heo chân giò heo gà nguyên con thịt trâu chân gà nêm chua xúc xích đông lạnh tại thời điểm kiểm tra chủ kho hàng đông lạnh là ông Phạm Đức của sinh năm 1981 không xuất trình được các giấy tờ chứng minh nguồn gốc xuất xứ của các sản phẩm tổ công tác đã lập biên bản và Đang phối hợp xác minh để xử lý theo quy định của pháp luật phần tin thế giới hấp dẫn Cuộc thi'),\n",
       " ('09:26',\n",
       "  'vô địch thế giới V th sĩ phiên bản Trung Quốc của vợ ba lê thang nha thờ Đức Bà kết hợp nét đẹp của ba Lê Phương Đông thưa quý vị ngày 30 tháng 10 một vụ sập vàng giáo đã xảy ra tại một công trường xây dựng ở thành phố ham buốc miền Bắc nước Đức làm ít nhất ba công nhân thiệt mạng và nhiều người khác bị chôn vùi với đống đổ'),\n",
       " ('09:55',\n",
       "  'nát theo Lực lượng cứu hỏa địa phương và thời điểm xảy ra vụ tai nạn có khoảng 1300 đến 1500 công nhân đang làm việc tại công trường dàng giáo cao hơn mặt đất khoảng 8 tầng trước khi đổ sập công trường xây dựng đã được sơ tán sau vụ tai nạn Lực lượng cứu hỏa cho biết nỗ lực cứu hộ gặp nhiều khó khăn nhà chức trách ban đầu cho biết có năm người thiệt mạng nhưng sau đó họ báo cáo lại'),\n",
       " ('10:18',\n",
       "  'là ba người vụ tai nạn xảy ra tại khu dân cư ở quận haen City thuộc thành phố cảng hambur trên sông anh bơ nơi đang được tái phát triển với nhiều tòa nhà chung cư Văn Phòng khách sạn và cửa hàng thưa quý vị cuộc xung đột giữa lực lượng hamas tầ kiểm soát giả gaza và Israel đã có dững diện biến leo than khi quân đội Israel Mở rồng chiến dịch trên bộ Tại gaza trước đó hôm 7 tháng 10'),\n",
       " ('10:42',\n",
       "  'hamas đã bất ngờ Đột Kích tấn công vào các thành phố thị trấn của Israel giết chết nhiều người và bắt giữ các con tin có hai con trai bị hamas bắt cóc một bà mẹ Israel Mới đây đã làm một đoạn phim hoạt hình để kể về câu chuyện đau buồn của mình Đây là câu chuyện về Yin 12 tuổi và O 16 tuổi bị bắt cóc tại khu vực ni miền Nam Israel khi chúng ở nhà một mình mẹ'),\n",
       " ('11:07',\n",
       "  'của hai đứa trẻ là người kể chuyện trong đoạn phim hoạt hình đạo diễn hoạt hình Ji goodman đã thực hiện đoạn phim Ông là người nổi tiếng tại israen với bộ phim mang tên was with B kể về chiến tranh libang năm 1982 goodman đã trò chuyện với renan g để lắng nghe câu chuyện của cô sau đó thực hiện đoạn phim đã liên tục gặp ác mộng khi thức dậy tôi tự nhủ với chính mình rằng phải'),\n",
       " ('11:32',\n",
       "  'đưa cơn ác mộng này ra khỏi đầu trẻ em không phải là con bài mặc cả trẻ em ở bất kỳ nơi nào trên thế giới lẽ ra không nên bị liên lụy Du tại gaza Israel hay tại Ukraina phim kết thúc có hậu gồm đoàn tụ với những người con và đây cũng chính là điều mà bà đang hy vọng hai con tinh lớn tuổi người Israel được hamas thả tự do nói với bà gom rằng họ đã nghe thấy'),\n",
       " ('11:55',\n",
       "  'tiếng trẻ con khi bị bắt giữ ở gaza Điều này khiến tin rằng con của mình vẫn còn sống các sông băng ở Nepal đang tan chảy với tốc độ kỷ lục và tình hình thảm khóc ngày càng gia tăng đây là phát biểu được Tổng thư ký Liên Hiệp Quốc Antonio gutz đưa ra vào hôm 29 tháng 10 trong khu khổ chuyến thăm chính thức Nepal phát biểu chi báo giới tại K mando tổng thự ký l nệp Quốc Cho biết sẽ đến'),\n",
       " ('12:22',\n",
       "  'thăm giải Himalaya để tận mắt chứng kiến tác động khung kếp của biến đội khí hậu đối với các sông bă tình hình rất nghiêm trọng và ngày càng gia tăng đ ba đã bất gần 1/3 diện tích chỉ Sau hơn 30 năm và sông băng đang tă chảy với tốc độ kỹ Lục tác động với cộng đồng là thảm khốc và tôi sẽ gặp cư dân địa phương trên giải Himalaya để trực tiếp lắng nghe việc họ bị ảnh hưởng như thế nào Theo các nhà'),\n",
       " ('12:46',\n",
       "  'khoa học các sông bă ở giải Himalaya C cung cấp nước quan trọng cho gần 2 tỷ người trên thế giới đang tà chải nhanh hơn bao giờ hết gié có thể mất tới 75 ph thể tích vào cuối thế kỷ do hiện tượng ấm lên toàn cầ điều này sẽ đ dọa đến đời sống Các cộng đồng với những thảm quả khó lượng và nguy cơ gây thiệt hại nghiêm trọng tại Kenya tổ chức phi chính phủ'),\n",
       " ('13:10',\n",
       "  'food for education đang cung cấp khoảng 165.000 bữ ăn với giá thấp cho học sinh mỗi ngày Đây là một phần của dự án lớn nhằm cung cấp bữa ăn cho khoảng 4 triệu học sinh tiểu học cùng hàng triệu học sinh các cấp khác ở quốc gia châu phi này Đây là chương trình mang tới bữa ăn giá thấp cho học sinh lớn nhất từ trước tới nay ở Kenya chính quyền các địa phương cũng hỗ trợ một phần chi phí cho'),\n",
       " ('13:33',\n",
       "  'các bữa ăn kể từ khi hoạt động Chúng tôi đã cung cấp hơn 29 triệu bữa ăn học đường Tuy theo mức trợ cấp của địa phương phụ huynh sẽ trả từ 50 đến 83 ph chi phí bữa ăn mỗi bữa ăn có giá 30 shilling Kenya tức khoảng 0,2 đô la Mỹ Tuy nhiên tình trạng làm phát nghèo đói kéo dài khiến nhiều gia đình không thể lo nổi việc ăn uống cho con cái trước đây chúng em mang đồ ăn từ nhà theo và'),\n",
       " ('13:57',\n",
       "  'khi đến giờ ăn thì thức ăn Đã ngội lạnh nhiều bạn còn không đến lớp và không tập trung học do bị đói giờ thì chúng em đã có bữa ăn nóng và thơm ngon Nó cũng giúp chúng em học tốt hơn nhờ những kết quả tích cực dự án đã được phụ huynh học sinh lẫn các trường học ở Kenya đón nhận và kỳ vọng sẽ tiếp tục mở rộng trong thời gian tới cuối tuần qua giả vô địch thế giới'),\n",
       " ('14:20',\n",
       "  'ph ma cckl đầu tiên đã diễn ra tại thụ sĩ với chiến thắng gần như tuyệt đối của chủ nhà 10ù phô mai tan chảy nồng nàng bao trùm một gốc nhỏ tr s phu Mai r ra đời vài thế kỷ trước khi những người chăn Cừ hăm nóng phu Mai gần bếp lửa rồi cạo phần tan chảy đi An đây là một trong các biểu tượng của đất nước Thụy Sĩ hôm 29 tháng 10 các nhà sản xuất chuyên gia và chủ nhà hàng đã cùng có'),\n",
       " ('14:48',\n",
       "  'mặt tại Ban val để tìm ra đ RL ngon nhất thế giới Chúng tôi có 90 bánh hô Mai 90 loại R Chúng tôi sẵn sàng Thi thố chơ công bà để xem chúng tôi có khả năng làm được phô mai ngon như ở va hay không phô mai sẽ được nấu chảy theo thời gian khác nhau và được xác định bằng mắt thường RL ngon phải vào kem bệnh màn hình thức màu sắc kết cấu đẹp không dài không như kẹo'),\n",
       " ('15:13',\n",
       "  'xươ gương không dầu chất béo không được chảy ra trên dĩa V rồi về mặt hương vị phải thuần túy không lai không đắng phần lớn người dự thi đến từ Thụy Sĩ hoặc pháp và ca Bỉ Canada Italia và ruman năm nay chủ nhà dành hu hết giả thưởng chỉ chừa một hạng nhì cho người Pháp ph bê thằng gồ nhà thời đức bà phiên bản Trung Quốc vừa rắ mắt khán giả nước này tại nhà hát lêu Ninh tác phẩm'),\n",
       " ('15:40',\n",
       "  'kết hợp nét đẹp của ba lê phương đông nhưng vẫn giữ nguyên cốt truyện của phương tây đội ngủ sáng tạo vở ba lê Thằng Gù Nhà Thờ Đức Bà đã tập hợp nghệ sĩ Trung Quốc đức và pháp và nhiều quốc gia khác nhằm tôn vinh sự đa dạng tác phẩm gia đoàn múa ba lê lêu ninh Thực hiện với với sự hỗ trợ của Biên đạo múa nổi tiếng thế giới Patrick de Bana thang quasimodo'),\n",
       " ('16:04',\n",
       "  'không phải là một con quái vật nhân vật này có một trái tim nhân hậu Vì thế việc thể hiện nhân cách tốt bụng của quasimodo là điều mà tôi rất chú trọng vợ bê kết hợp giữa chủ nghĩa hiện thực và trừu tượng sân khấu được Lấy cảm hứng từ những bức tranh sân dầu của Pháp V âm nhạc Kết hợp hài hoòa giữa các thể loại của điển và đương đại sau lần cung diễn tại Thành Phố Thẩm Dương tỉnh Liêu'),\n",
       " ('16:27',\n",
       "  'Ninh V B Lê thang nha thời đức bà sẽ được trình diễn tại Trung tâm nghệ thuật ở Bắc Kinh vào tháng 12 tới trước khi bắt đầu chuyến lưu diễn Châu Âu vào năm sau ngày 30 tháng 10 liên đoàn bóng đá thế giới FIFA đã cấm Cụ Chủ tịch Liên đoàn bóng đá Tây Ban Nha Luis rubiales tham gia mọi hoạt động bóng đá trong 3 năm liên quan tới hành vi sai trái của ông trong trận chung kết World Cup nữ'),\n",
       " ('16:53',\n",
       "  '2023 theo ủy ban kỷ luật của Fifa ông rubiales đã vi phạm điều 13 trong quý tắc kỷ luật FIFA liên quan đến vụ việc diễn ra trong trận chung kết World Cup nữ ngày 20 tháng 8 năm 2023 cùng theo FIFA ông rubiales có quyền kháng cáo ông rubiales đã hôn tiền đạo Jenny hermoso tại lễ trao giải sau khi đội tuyển Tây Ban Nha đăng quan World Cup nữ ông khẳng định nụ hôn này có sự đồng thuận giữa'),\n",
       " ('17:17',\n",
       "  'hai bên nhưng hoso thì nói rằng cô đã không đồng ý sức ép gia tăng từ nhiều phía đã khiến ông rubiales tự chức chủ tịch liên đoàn bóng đá Tây Ban Nha trong khi hermoso đã trở lại thi đấu cho tuy nữ Tây Ban Nha mới đây cô đã ghi bàn thắng duy nhất giúp tuyển nữ Tây Ban Nha dành chiến thắng 1-0 trước Italia tại giải Nations League vào ngày 27 tháng 10 hôm 29 tháng 10 cuộc đua thuyền trang'),\n",
       " ('17:41',\n",
       "  'sát jacker vaer lần thứ 16 đã khởi hành ngoài khơi l AF của Pháp vùng nước động mạnh đã khiến một nửa số thuyền tham gia phải ở lại cản tră s là cuộc đua du thuyền đi theo tuyến đường giao thương cà phê Lịch Sử giữa Pháp và Brazil ra đời năm 1993 dữ ra ha năm một lần vào những năm lẽ sự kiện đa đặt theo tên một thương hiệu cà phê của'),\n",
       " ('18:06',\n",
       "  'Pháp đồng thời là nhà tài trợ đây là cuộc đua dành cho hai người đi từ LH đến salvador de Pia Brazil phương tiện gồm Tàu nhiều thân và tàu một thân thuộc các hạng từ tim tàu đa thân dài 70 đến 105 fet imoka tạ một thân 60 fet wi 50 và L 40 tất cả các loại thiết bị hỗ trợ điều hướng đều được phép sử dụng ngoa trề class 40 Ngà diễn ra cuộc đùa điều kiện thời tiết sấu đi quá nhanh sóng dồi cao'),\n",
       " ('18:38',\n",
       "  'cộng gió vật đã khiến ba tổ chức phải quản việc khởi hành của gần một nửa đội tàu vào phốc gió thông tin cập nhật thưa quý vị các cuộc tấn công bằng tên lửa vẫn tiếp tục diễn ra trong đêm qua ở dải gaza thấp sáng bộ Trời Miền Nam Israel trong bối cảnh lực lượng mặt đất của Israel đã tiến sâu hơn vào khu vực này lực lượng phòng vệ Israel idf cho biết'),\n",
       " ('19:01',\n",
       "  'các tên lửa phóng từ giải gaza đã bị hệ thống phòng không yond của nước này đánh chạng tiệc hại đã xảy ra ở thành phố stos nhưng chưa có thân Dong nào được báo cáo trong khi đó nhà trắng cho biết không ủng hộ những lời kêu gọn gừng bắn vào thời điểm này mà thay vào đó nên xem xét vị Tạm ngừng giao tranh để tạo điều kiện cho Việ trợ vào gaza theo người phát ngôn hội động an ninh quốc gia Mỹ'),\n",
       " ('19:24',\n",
       "  'John cby Washington tự tin sẽ tăng số lượng xe tải diện trợ vào gaz qua cử khẩu rafa ở CP lên khoảng 100 xe mỗi ngày ngày 30 tháng 10 người phát ngôn Văn phòng Tổng thống Nga demitri peskov Cho biết vụ việc người biểu tình phản đối Israel xông vào sân bay makala thuộc vùng dagestan có yếu tố tác động từ bên ngoài ông BC nói rằng sự cố xảy ra tại sân bay mahala phần lớn là do tác động'),\n",
       " ('19:52',\n",
       "  'từ bên ngoài bao gồm tác động về mặt thông tin trong khi đó người phát ngôn bộ Ngoại giao Nga Maria cáo buộc Ukraina đóng vai trò trực tiếp và chủ chốt liên quan tới vụ người biểu tình Trang vào sân bay makala phản ứng trước tuyên bố của bà zakharova phía Ukraina khẳng định kief không liên quan tới vụ việc tại sân bay ở vùng dagestan sân bay mahala dự kiến mở cửa trở lại vào ngày 31 tháng 10'),\n",
       " ('20:16',\n",
       "  'thay vì ngày 6 tháng 11 như thông báo trước đó ngày 29 tháng 10 hàng trăm người đã tụ tập tại sân bay makala biểu tình phản đối của xung đột hamas Isarel họ đã xông vào bên trong bay và khu vực đường băng sau khi chuyến bay Theo lịch trình từ Tel aviv hạ cảnh cảnh sát đã được huy động đến hiện trường để giải tán đám đông hơn 20 người trong đó cảnh sát và dân thường đã bị thương Bộ Nội vụ'),\n",
       " ('20:40',\n",
       "  'Nga đã xác định danh tính của 150 người tham gia biểu tình bắt giữ được 60 người và đang truy tìm những người bỏ trốn thông tin vừa rồi cũng đã khép lại chương trình 60 Giây sáng nay hẹn gặp lại quý vị trong chương trình 60 gi buổi chiều vào lúc 18:30 với những thông tin cập nhật trong ngày Chúc quý vị có một ngày mới nhiều năng lượng Xin kính chào tạm'),\n",
       " ('21:05', 'biệt')]"
      ]
     },
     "execution_count": 5,
     "metadata": {},
     "output_type": "execute_result"
    }
   ],
   "source": [
    "a"
   ]
  },
  {
   "cell_type": "code",
   "execution_count": 6,
   "metadata": {},
   "outputs": [
    {
     "data": {
      "text/plain": [
       "0"
      ]
     },
     "execution_count": 6,
     "metadata": {},
     "output_type": "execute_result"
    }
   ],
   "source": [
    "index = find_closest_tuple_index(a, 25, 25)\n",
    "\n",
    "index"
   ]
  },
  {
   "cell_type": "code",
   "execution_count": 7,
   "metadata": {},
   "outputs": [
    {
     "data": {
      "text/plain": [
       "'Kính chào quý vị Rất hân hạnh được gặp lại quý vị trong chương trình 60 giây của đ truyền hình thành phố Hồ Chí Minh chương trình Sáng nay thứ ba ngày 31 tháng 10 sẽ chuyển đến quý vị những nội dung đáng chú ý sau [âm nhạc] đây các tỉnh miền Trung chủ động ứng phó với mưa lũ giảm thiểu thiệt hại về người và của Tính B tre công bố tình huống khẩn cấp sạc lỡ xâm thực bờ biển ở huyện Ba trip và giáo công trường đang xây dựng ở ham buốc của Đức ít nhất ba công nhân thiệt mạng thưa quý vị hai ngày qua các tỉnh miền Trung có mưa lớn có nơi trên 400 mm gây ngập lục ở các khu dân cư vùng trủng thấp mưa lũ cũng khiến giao thông bị ách tắc ở một số tiếng đường tại tỉnh Hà Tĩnh Hai phụ nữ và một trẻ em ở huyện'"
      ]
     },
     "execution_count": 7,
     "metadata": {},
     "output_type": "execute_result"
    }
   ],
   "source": [
    "def concatenate_surrounding_strings(tuples_list, frame_id, fps):\n",
    "    \"\"\"Concatenate strings from the closest tuple and its neighbors.\"\"\"\n",
    "    closest_index = find_closest_tuple_index(tuples_list, frame_id, fps)\n",
    "    \n",
    "    if closest_index is None:\n",
    "        return ''\n",
    "    \n",
    "    # Get indices for concatenation\n",
    "    start_index = max(0, closest_index - 1)\n",
    "    end_index = min(len(tuples_list), closest_index + 2)  # +2 to include the next one\n",
    "    \n",
    "    # Extract the strings to concatenate\n",
    "    strings_to_concatenate = [tup[1] for tup in tuples_list[start_index:end_index]]\n",
    "    \n",
    "    return ' '.join(strings_to_concatenate)\n",
    "\n",
    "s = concatenate_surrounding_strings(a, 25, 25)\n",
    "s"
   ]
  }
 ],
 "metadata": {
  "kernelspec": {
   "display_name": "Python 3",
   "language": "python",
   "name": "python3"
  },
  "language_info": {
   "codemirror_mode": {
    "name": "ipython",
    "version": 3
   },
   "file_extension": ".py",
   "mimetype": "text/x-python",
   "name": "python",
   "nbconvert_exporter": "python",
   "pygments_lexer": "ipython3",
   "version": "3.9.6"
  }
 },
 "nbformat": 4,
 "nbformat_minor": 2
}
