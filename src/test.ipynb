{
 "cells": [
  {
   "cell_type": "code",
   "execution_count": 1,
   "metadata": {},
   "outputs": [
    {
     "data": {
      "text/plain": [
       "9"
      ]
     },
     "execution_count": 1,
     "metadata": {},
     "output_type": "execute_result"
    }
   ],
   "source": [
    "import unicodedata\n",
    "import re\n",
    "\n",
    "def normalize_text(text):\n",
    "    # Normalize text to NFD (Canonical Decomposition)\n",
    "    text = unicodedata.normalize('NFD', text)\n",
    "    # Remove diacritics (accents)\n",
    "    text = ''.join([char for char in text if not unicodedata.combining(char)])\n",
    "    # Convert to lowercase\n",
    "    text = text.lower()\n",
    "    return text\n",
    "\n",
    "def count_keywords_in_string(keywords, text):\n",
    "    # Normalize the text\n",
    "    normalized_text = normalize_text(text)\n",
    "    total_count = 0\n",
    "    for keyword in keywords:\n",
    "        # Normalize the keyword\n",
    "        normalized_keyword = normalize_text(keyword)\n",
    "        # Use regex to find all non-overlapping occurrences of the keyword\n",
    "        matches = re.findall(re.escape(normalized_keyword), normalized_text)\n",
    "        total_count += len(matches)\n",
    "    return total_count\n",
    "\n",
    "keywords = ['a', 'bc', 'xyz']\n",
    "text = 'Ábç xÝz ábç XýZ À Bç xÿz'\n",
    "total_occurrences = count_keywords_in_string(keywords, text)\n",
    "\n",
    "total_occurrences"
   ]
  }
 ],
 "metadata": {
  "kernelspec": {
   "display_name": "Python 3",
   "language": "python",
   "name": "python3"
  },
  "language_info": {
   "codemirror_mode": {
    "name": "ipython",
    "version": 3
   },
   "file_extension": ".py",
   "mimetype": "text/x-python",
   "name": "python",
   "nbconvert_exporter": "python",
   "pygments_lexer": "ipython3",
   "version": "3.9.6"
  }
 },
 "nbformat": 4,
 "nbformat_minor": 2
}
