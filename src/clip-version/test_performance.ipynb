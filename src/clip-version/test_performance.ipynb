{
 "cells": [
  {
   "cell_type": "code",
   "execution_count": 17,
   "metadata": {},
   "outputs": [],
   "source": [
    "import numpy as np\n",
    "import torch\n",
    "from transformers import CLIPProcessor, CLIPModel\n",
    "from PIL import Image\n",
    "import fiftyone as fo\n",
    "import os\n",
    "os.environ[\"TOKENIZERS_PARALLELISM\"] = \"false\""
   ]
  },
  {
   "cell_type": "code",
   "execution_count": 18,
   "metadata": {},
   "outputs": [],
   "source": [
    "device = \"cuda\" if torch.cuda.is_available() else \"cpu\"\n",
    "model = CLIPModel.from_pretrained(\"openai/clip-vit-large-patch14-336\").to(device)\n",
    "processor = CLIPProcessor.from_pretrained(\"openai/clip-vit-large-patch14-336\")"
   ]
  },
  {
   "cell_type": "code",
   "execution_count": 19,
   "metadata": {},
   "outputs": [
    {
     "data": {
      "text/plain": [
       "(272, 768)"
      ]
     },
     "execution_count": 19,
     "metadata": {},
     "output_type": "execute_result"
    }
   ],
   "source": [
    "image_embeddings = np.load(\"L01_V001.npy\")\n",
    "image_embeddings.shape"
   ]
  },
  {
   "cell_type": "code",
   "execution_count": 20,
   "metadata": {},
   "outputs": [],
   "source": [
    "text_query = \"white car\""
   ]
  },
  {
   "cell_type": "code",
   "execution_count": 21,
   "metadata": {},
   "outputs": [],
   "source": [
    "inputs = processor(text=text_query, return_tensors=\"pt\", padding=True, truncation=True).to(device)"
   ]
  },
  {
   "cell_type": "code",
   "execution_count": 22,
   "metadata": {},
   "outputs": [],
   "source": [
    "with torch.no_grad():\n",
    "    text_embedding = model.get_text_features(**inputs).cpu().numpy()"
   ]
  },
  {
   "cell_type": "code",
   "execution_count": 23,
   "metadata": {},
   "outputs": [
    {
     "name": "stdout",
     "output_type": "stream",
     "text": [
      "Top 5 matching image indices: [ 16 257   5 129  70 266 130   3 135 121 125  68 255 127 153 126  83  23\n",
      " 243  78  90 173   9   4 252 251  10  75 109  37 172  99 256 101 171 268\n",
      " 202  92  85  28  95  48 142  27 162  38  21 170 141  25 271  69  79  86\n",
      "  36  45  19  74  17  24  29  26   8 244 103  46  14  44 157 102   1  71\n",
      "  84 176  88 152 270 269  20 131 140 267  18   0 209  11  40 211 189  39\n",
      " 260  32 197 169 155 136 262  81 195 120]\n"
     ]
    }
   ],
   "source": [
    "cosine_similarities = np.dot(image_embeddings, text_embedding.T).flatten()\n",
    "k = 100\n",
    "top_k_indices = np.argsort(cosine_similarities)[-k:][::-1]\n",
    "\n",
    "print(\"Top 5 matching image indices:\", top_k_indices)"
   ]
  },
  {
   "cell_type": "code",
   "execution_count": 24,
   "metadata": {},
   "outputs": [
    {
     "name": "stdout",
     "output_type": "stream",
     "text": [
      "Session launched. Run `session.show()` to open the App in a cell output.\n"
     ]
    },
    {
     "data": {
      "application/javascript": "window.open('http://localhost:5151/');",
      "text/plain": [
       "<IPython.core.display.Javascript object>"
      ]
     },
     "metadata": {},
     "output_type": "display_data"
    }
   ],
   "source": [
    "images_path = []\n",
    "for id in top_k_indices:\n",
    "    id = id + 1\n",
    "    path = os.getcwd() + f\"/../../data/batch1/keyframes/keyframes_L01/L01_V001/{id:03d}.jpg\"\n",
    "    images_path.append(path)\n",
    "images_path\n",
    "\n",
    "if fo.dataset_exists(\"my_dataset\"):\n",
    "    fo.delete_dataset(\"my_dataset\")\n",
    "dataset = fo.Dataset(\"my_dataset\")\n",
    "\n",
    "for path in images_path:\n",
    "    sample = fo.Sample(filepath=path)\n",
    "    dataset.add_sample(sample)\n",
    "\n",
    "session = fo.launch_app(dataset, auto=False)\n",
    "session.open_tab()"
   ]
  }
 ],
 "metadata": {
  "kernelspec": {
   "display_name": "Python 3",
   "language": "python",
   "name": "python3"
  },
  "language_info": {
   "codemirror_mode": {
    "name": "ipython",
    "version": 3
   },
   "file_extension": ".py",
   "mimetype": "text/x-python",
   "name": "python",
   "nbconvert_exporter": "python",
   "pygments_lexer": "ipython3",
   "version": "3.9.6"
  }
 },
 "nbformat": 4,
 "nbformat_minor": 2
}
