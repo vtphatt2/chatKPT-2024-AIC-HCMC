{
 "cells": [
  {
   "cell_type": "code",
   "execution_count": 1,
   "metadata": {},
   "outputs": [],
   "source": [
    "import numpy as np\n",
    "import torch\n",
    "from transformers import CLIPProcessor, CLIPModel\n",
    "from PIL import Image\n",
    "import fiftyone as fo\n",
    "import os\n",
    "import glob"
   ]
  },
  {
   "cell_type": "code",
   "execution_count": 2,
   "metadata": {},
   "outputs": [
    {
     "name": "stderr",
     "output_type": "stream",
     "text": [
      "/Users/VoThinhPhat/Library/Python/3.9/lib/python/site-packages/transformers/tokenization_utils_base.py:1601: FutureWarning: `clean_up_tokenization_spaces` was not set. It will be set to `True` by default. This behavior will be depracted in transformers v4.45, and will be then set to `False` by default. For more details check this issue: https://github.com/huggingface/transformers/issues/31884\n",
      "  warnings.warn(\n"
     ]
    }
   ],
   "source": [
    "device = \"cuda\" if torch.cuda.is_available() else \"cpu\"\n",
    "model = CLIPModel.from_pretrained(\"openai/clip-vit-large-patch14-336\").to(device)\n",
    "processor = CLIPProcessor.from_pretrained(\"openai/clip-vit-large-patch14-336\")"
   ]
  },
  {
   "cell_type": "code",
   "execution_count": 17,
   "metadata": {},
   "outputs": [],
   "source": [
    "text_query = \"real dog\""
   ]
  },
  {
   "cell_type": "code",
   "execution_count": 18,
   "metadata": {},
   "outputs": [],
   "source": [
    "inputs = processor(text=text_query, return_tensors=\"pt\", padding=True, truncation=True).to(device)\n",
    "with torch.no_grad():\n",
    "    text_embedding = model.get_text_features(**inputs).cpu().numpy()"
   ]
  },
  {
   "cell_type": "code",
   "execution_count": 19,
   "metadata": {},
   "outputs": [],
   "source": [
    "path_pattern = os.path.join(os.getcwd(), '..', '..', 'data', \n",
    "                            'batch*', 'clip-features-14', 'L01_*.npy')\n",
    "paths = glob.glob(path_pattern)\n",
    "videos = [video[:-4].rsplit(os.sep)[-1] for video in paths]\n",
    "videos.sort()\n",
    "\n",
    "video_keyframe_embedding = {}\n",
    "\n",
    "\n",
    "for video in videos:\n",
    "    video_keyframe_embedding[video] = {}\n",
    "    path_to_clip = os.path.join(os.getcwd(), '..', '..', 'data', \n",
    "                            'batch1', 'clip-features-14', video + '.npy')\n",
    "    if (os.path.exists(path_to_clip)):\n",
    "        a = np.load(path_to_clip)\n",
    "        for index, embedding in enumerate(a):\n",
    "            video_keyframe_embedding[video][index] = embedding\n"
   ]
  },
  {
   "cell_type": "code",
   "execution_count": 6,
   "metadata": {},
   "outputs": [],
   "source": [
    "def cosine_similarity(a, b):\n",
    "    return np.dot(a, b) / (np.linalg.norm(a) * np.linalg.norm(b))"
   ]
  },
  {
   "cell_type": "code",
   "execution_count": 7,
   "metadata": {},
   "outputs": [],
   "source": [
    "def find_top_matches(query_embedding, video_embeddings, top_n=100):\n",
    "    results = []\n",
    "\n",
    "    # Iterate over videos and their keyframe embeddings\n",
    "    for video, embeddings in video_embeddings.items():\n",
    "        for index, embedding in embeddings.items():\n",
    "            # Calculate similarity\n",
    "            similarity = cosine_similarity(query_embedding, embedding)\n",
    "            results.append((video, index, similarity))\n",
    "    \n",
    "    # Sort results by similarity in descending order and select top N\n",
    "    results = sorted(results, key=lambda x: x[2], reverse=True)[:top_n]\n",
    "    \n",
    "    return results"
   ]
  },
  {
   "cell_type": "code",
   "execution_count": 20,
   "metadata": {},
   "outputs": [],
   "source": [
    "top_matches = find_top_matches(text_embedding, video_keyframe_embedding)"
   ]
  },
  {
   "cell_type": "code",
   "execution_count": 21,
   "metadata": {},
   "outputs": [
    {
     "data": {
      "text/plain": [
       "9"
      ]
     },
     "execution_count": 21,
     "metadata": {},
     "output_type": "execute_result"
    }
   ],
   "source": [
    "top_matches[0][1]"
   ]
  },
  {
   "cell_type": "code",
   "execution_count": 22,
   "metadata": {},
   "outputs": [
    {
     "name": "stdout",
     "output_type": "stream",
     "text": [
      "Session launched. Run `session.show()` to open the App in a cell output.\n"
     ]
    },
    {
     "data": {
      "application/javascript": "window.open('http://localhost:5151/');",
      "text/plain": [
       "<IPython.core.display.Javascript object>"
      ]
     },
     "metadata": {},
     "output_type": "display_data"
    }
   ],
   "source": [
    "images_path = []\n",
    "for element in top_matches:\n",
    "    video = element[0]\n",
    "    id = element[1] + 1\n",
    "    path = os.getcwd() + f\"/../../data/batch1/keyframes/keyframes_L01/{video}/{id:03d}.jpg\"\n",
    "    images_path.append(path)\n",
    "\n",
    "if fo.dataset_exists(\"my_dataset\"):\n",
    "    fo.delete_dataset(\"my_dataset\")\n",
    "dataset = fo.Dataset(\"my_dataset\")\n",
    "\n",
    "for path in images_path:\n",
    "    sample = fo.Sample(filepath=path)\n",
    "    dataset.add_sample(sample)\n",
    "\n",
    "session = fo.launch_app(dataset, auto=False)\n",
    "session.open_tab()"
   ]
  }
 ],
 "metadata": {
  "kernelspec": {
   "display_name": "Python 3",
   "language": "python",
   "name": "python3"
  },
  "language_info": {
   "codemirror_mode": {
    "name": "ipython",
    "version": 3
   },
   "file_extension": ".py",
   "mimetype": "text/x-python",
   "name": "python",
   "nbconvert_exporter": "python",
   "pygments_lexer": "ipython3",
   "version": "3.9.6"
  }
 },
 "nbformat": 4,
 "nbformat_minor": 2
}
