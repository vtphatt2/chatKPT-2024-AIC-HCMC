{
 "cells": [
  {
   "cell_type": "code",
   "execution_count": 1,
   "metadata": {},
   "outputs": [],
   "source": [
    "from utils import dataset_manager, model_manager\n",
    "import os\n",
    "import fiftyone as fo\n",
    "from flask import Flask\n",
    "from routes import init_app"
   ]
  },
  {
   "cell_type": "code",
   "execution_count": null,
   "metadata": {},
   "outputs": [],
   "source": [
    "# data_dir = os.path.join(\"..\", \"data\") # remember to organize data folder as described in github\n",
    "data_dir = '/Users/VoThinhPhat/Desktop/data'\n",
    "dataset_manager = dataset_manager.Dataset(dataset_name='AIC_2024',\n",
    "                                        data_dir=data_dir)\n",
    "dataset_manager.load_metadata()\n",
    "dataset = dataset_manager.get_fiftyone_dataset()"
   ]
  },
  {
   "cell_type": "code",
   "execution_count": null,
   "metadata": {},
   "outputs": [],
   "source": [
    "# clip vit large patch14 model\n",
    "model_clip14 = model_manager.CLIP_14_model()\n",
    "\n",
    "# remember to download model_config_file and model_file (contact vtphatt2 for link)\n",
    "model_config_file = os.path.join(os.getcwd(), 'task-former', 'code', 'training', \n",
    "                                 'model_configs', 'ViT-B-16.json')\n",
    "model_file = os.path.join(os.getcwd(), 'task-former', 'model', 'tsbir_model_final.pt')\n",
    "model_task_former = model_manager.TASK_former_model(model_config_file=model_config_file,\n",
    "                                                    model_file=model_file)"
   ]
  },
  {
   "cell_type": "code",
   "execution_count": null,
   "metadata": {},
   "outputs": [],
   "source": [
    "from flask import Flask\n",
    "from routes.interact_with_csv_files import csv_routes\n",
    "\n",
    "app = Flask(__name__)\n",
    "\n",
    "# Register the blueprints\n",
    "app.register_blueprint(csv_routes)\n",
    "\n",
    "app.run(debug=True, use_reloader=False)"
   ]
  }
 ],
 "metadata": {
  "kernelspec": {
   "display_name": "Python 3",
   "language": "python",
   "name": "python3"
  },
  "language_info": {
   "codemirror_mode": {
    "name": "ipython",
    "version": 3
   },
   "file_extension": ".py",
   "mimetype": "text/x-python",
   "name": "python",
   "nbconvert_exporter": "python",
   "pygments_lexer": "ipython3",
   "version": "3.9.6"
  }
 },
 "nbformat": 4,
 "nbformat_minor": 2
}
