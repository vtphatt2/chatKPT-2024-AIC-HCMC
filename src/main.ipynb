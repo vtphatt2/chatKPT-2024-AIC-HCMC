{
 "cells": [
  {
   "cell_type": "code",
   "execution_count": 1,
   "metadata": {},
   "outputs": [],
   "source": [
    "from utils import dataset_manager, model_manager\n",
    "import os\n",
    "import fiftyone as fo\n",
    "from flask import Flask, request, jsonify\n",
    "from routes.interact_with_csv_files import csv_routes\n",
    "from deep_translator import GoogleTranslator"
   ]
  },
  {
   "cell_type": "code",
   "execution_count": null,
   "metadata": {},
   "outputs": [],
   "source": [
    "# data_dir = os.path.join(\"..\", \"data\") # remember to organize data folder as described in github\n",
    "data_dir = '/Users/VoThinhPhat/Desktop/data'\n",
    "dataset_manager = dataset_manager.Dataset(dataset_name='AIC_2024',\n",
    "                                        data_dir=data_dir)\n",
    "dataset_manager.load_metadata()\n",
    "dataset = dataset_manager.get_fiftyone_dataset()"
   ]
  },
  {
   "cell_type": "code",
   "execution_count": null,
   "metadata": {},
   "outputs": [],
   "source": [
    "# clip vit large patch14 model\n",
    "model_clip14 = model_manager.CLIP_14_model()\n",
    "\n",
    "# remember to download model_config_file and model_file (contact vtphatt2 for link)\n",
    "model_config_file = os.path.join(os.getcwd(), 'task-former', 'code', 'training', \n",
    "                                 'model_configs', 'ViT-B-16.json')\n",
    "model_file = os.path.join(os.getcwd(), 'task-former', 'model', 'tsbir_model_final.pt')\n",
    "model_task_former = model_manager.TASK_former_model(model_config_file=model_config_file,\n",
    "                                                    model_file=model_file)"
   ]
  },
  {
   "cell_type": "code",
   "execution_count": 2,
   "metadata": {},
   "outputs": [
    {
     "name": "stdout",
     "output_type": "stream",
     "text": [
      " * Serving Flask app '__main__'\n",
      " * Debug mode: on\n"
     ]
    },
    {
     "name": "stderr",
     "output_type": "stream",
     "text": [
      "\u001b[31m\u001b[1mWARNING: This is a development server. Do not use it in a production deployment. Use a production WSGI server instead.\u001b[0m\n",
      " * Running on http://127.0.0.1:5000\n",
      "\u001b[33mPress CTRL+C to quit\u001b[0m\n",
      "127.0.0.1 - - [25/Sep/2024 00:50:46] \"GET / HTTP/1.1\" 200 -\n",
      "127.0.0.1 - - [25/Sep/2024 00:50:46] \"\u001b[36mGET /static/interact_with_csv_files.js HTTP/1.1\u001b[0m\" 304 -\n",
      "127.0.0.1 - - [25/Sep/2024 00:50:46] \"\u001b[36mGET /static/search_mode.js HTTP/1.1\u001b[0m\" 304 -\n",
      "127.0.0.1 - - [25/Sep/2024 00:50:46] \"\u001b[36mGET /static/canvasDrawing.js HTTP/1.1\u001b[0m\" 304 -\n",
      "127.0.0.1 - - [25/Sep/2024 00:50:51] \"POST /search_by_text HTTP/1.1\" 200 -\n"
     ]
    },
    {
     "name": "stdout",
     "output_type": "stream",
     "text": [
      "Hello\n"
     ]
    },
    {
     "name": "stderr",
     "output_type": "stream",
     "text": [
      "127.0.0.1 - - [25/Sep/2024 00:50:55] \"POST /search_by_text HTTP/1.1\" 200 -\n"
     ]
    },
    {
     "name": "stdout",
     "output_type": "stream",
     "text": [
      "so sad\n"
     ]
    },
    {
     "name": "stderr",
     "output_type": "stream",
     "text": [
      "127.0.0.1 - - [25/Sep/2024 00:51:00] \"POST /search_by_text HTTP/1.1\" 200 -\n"
     ]
    },
    {
     "name": "stdout",
     "output_type": "stream",
     "text": [
      "too much\n"
     ]
    },
    {
     "name": "stderr",
     "output_type": "stream",
     "text": [
      "127.0.0.1 - - [25/Sep/2024 00:51:08] \"POST /search_by_text HTTP/1.1\" 200 -\n"
     ]
    },
    {
     "name": "stdout",
     "output_type": "stream",
     "text": [
      "you are so cruel\n"
     ]
    },
    {
     "name": "stderr",
     "output_type": "stream",
     "text": [
      "127.0.0.1 - - [25/Sep/2024 00:51:22] \"POST /search_by_text HTTP/1.1\" 200 -\n"
     ]
    },
    {
     "name": "stdout",
     "output_type": "stream",
     "text": [
      "a man fucking a woman\n"
     ]
    },
    {
     "name": "stderr",
     "output_type": "stream",
     "text": [
      "127.0.0.1 - - [25/Sep/2024 00:52:02] \"POST /search_by_text HTTP/1.1\" 200 -\n"
     ]
    },
    {
     "name": "stdout",
     "output_type": "stream",
     "text": [
      "this is so boring\n"
     ]
    }
   ],
   "source": [
    "from flask import Flask\n",
    "from routes.interact_with_csv_files import csv_routes\n",
    "from flask import request, jsonify\n",
    "from deep_translator import GoogleTranslator\n",
    "\n",
    "app = Flask(__name__)\n",
    "\n",
    "# Register the blueprint with the main app\n",
    "app.register_blueprint(csv_routes)\n",
    "\n",
    "@app.route('/search_by_text', methods=['POST'])\n",
    "def search_by_text():\n",
    "    data = request.json\n",
    "    search_text = data.get('searchText')\n",
    "    translated_text = GoogleTranslator(source='vi', target='en').translate(search_text)\n",
    "    print(translated_text)\n",
    "    \n",
    "    response = jsonify({\"translated_text\": translated_text})\n",
    "    response.headers['Cache-Control'] = 'no-store, no-cache, must-revalidate, max-age=0'\n",
    "    response.headers['Pragma'] = 'no-cache'\n",
    "    response.headers['Expires'] = '0'\n",
    "\n",
    "    # Returning the processed text back to the frontend\n",
    "    return jsonify({\"translated_text\": translated_text}), 200\n",
    "\n",
    "app.run(debug=True, use_reloader=False)"
   ]
  }
 ],
 "metadata": {
  "kernelspec": {
   "display_name": "Python 3",
   "language": "python",
   "name": "python3"
  },
  "language_info": {
   "codemirror_mode": {
    "name": "ipython",
    "version": 3
   },
   "file_extension": ".py",
   "mimetype": "text/x-python",
   "name": "python",
   "nbconvert_exporter": "python",
   "pygments_lexer": "ipython3",
   "version": "3.9.6"
  }
 },
 "nbformat": 4,
 "nbformat_minor": 2
}
