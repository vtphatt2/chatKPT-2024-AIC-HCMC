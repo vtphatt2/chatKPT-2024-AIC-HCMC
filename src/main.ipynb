{
 "cells": [
  {
   "cell_type": "code",
   "execution_count": null,
   "metadata": {},
   "outputs": [],
   "source": [
    "from utils import load_dataset, display_dataset\n",
    "from utils.display_dataset import display_dataset\n",
    "import os\n",
    "import fiftyone as fo"
   ]
  },
  {
   "cell_type": "code",
   "execution_count": null,
   "metadata": {},
   "outputs": [],
   "source": [
    "images_dir = os.path.join(\"..\", \"data\")\n",
    "dataset = load_dataset.Dataset(dataset_name='AIC_2024',\n",
    "                               images_dir=images_dir).load_metadata()\n",
    "dataset = dataset.get_fo_dataset()"
   ]
  }
 ],
 "metadata": {
  "kernelspec": {
   "display_name": "Python 3",
   "language": "python",
   "name": "python3"
  },
  "language_info": {
   "name": "python",
   "version": "3.9.6"
  }
 },
 "nbformat": 4,
 "nbformat_minor": 2
}
