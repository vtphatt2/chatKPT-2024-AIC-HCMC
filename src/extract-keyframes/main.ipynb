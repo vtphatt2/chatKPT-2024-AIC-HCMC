{
 "cells": [
  {
   "cell_type": "code",
   "execution_count": 2,
   "metadata": {},
   "outputs": [],
   "source": [
    "import os\n",
    "import pandas as pd\n",
    "import subprocess\n",
    "from glob import glob\n",
    "from transnetv2 import TransNetV2\n",
    "import cv2\n",
    "import numpy as np"
   ]
  },
  {
   "cell_type": "code",
   "execution_count": null,
   "metadata": {},
   "outputs": [],
   "source": [
    "def get_and_save_frame(video_path, frame_id, save_path, filename):\n",
    "    cap = cv2.VideoCapture(video_path)\n",
    "    if not cap.isOpened():\n",
    "        print(\"Error: Could not open the video file.\")\n",
    "        return\n",
    "    cap.set(cv2.CAP_PROP_POS_FRAMES, frame_id)\n",
    "    ret, frame = cap.read()\n",
    "    if not ret:\n",
    "        print(f\"Error: Could not read frame {frame_id}.\")\n",
    "        cap.release()\n",
    "        return\n",
    "    os.makedirs(save_path, exist_ok=True)\n",
    "    save_file_path = os.path.join(save_path, filename)\n",
    "    cv2.imwrite(save_file_path, frame)\n",
    "    print(f\"Frame {frame_id} saved successfully at {save_file_path}.\")\n",
    "    cap.release()"
   ]
  },
  {
   "cell_type": "code",
   "execution_count": 3,
   "metadata": {},
   "outputs": [
    {
     "name": "stdout",
     "output_type": "stream",
     "text": [
      "[TransNetV2] Using weights from /Library/Python/3.9/site-packages/transnetv2-1.0.0-py3.9.egg/transnetv2/transnetv2-weights/.\n"
     ]
    },
    {
     "ename": "AttributeError",
     "evalue": "module 'tensorflow' has no attribute 'saved_model'",
     "output_type": "error",
     "traceback": [
      "\u001b[0;31m---------------------------------------------------------------------------\u001b[0m",
      "\u001b[0;31mAttributeError\u001b[0m                            Traceback (most recent call last)",
      "Cell \u001b[0;32mIn[3], line 4\u001b[0m\n\u001b[1;32m      2\u001b[0m os\u001b[38;5;241m.\u001b[39mmakedirs(\u001b[38;5;124m'\u001b[39m\u001b[38;5;124mvideo\u001b[39m\u001b[38;5;124m'\u001b[39m, exist_ok\u001b[38;5;241m=\u001b[39m\u001b[38;5;28;01mTrue\u001b[39;00m)\n\u001b[1;32m      3\u001b[0m os\u001b[38;5;241m.\u001b[39mmakedirs(\u001b[38;5;124m'\u001b[39m\u001b[38;5;124mmap-keyframes\u001b[39m\u001b[38;5;124m'\u001b[39m, exist_ok\u001b[38;5;241m=\u001b[39m\u001b[38;5;28;01mTrue\u001b[39;00m)\n\u001b[0;32m----> 4\u001b[0m model \u001b[38;5;241m=\u001b[39m \u001b[43mTransNetV2\u001b[49m\u001b[43m(\u001b[49m\u001b[43m)\u001b[49m\n",
      "File \u001b[0;32m/Library/Python/3.9/site-packages/transnetv2-1.0.0-py3.9.egg/transnetv2/transnetv2.py:18\u001b[0m, in \u001b[0;36mTransNetV2.__init__\u001b[0;34m(self, model_dir)\u001b[0m\n\u001b[1;32m     16\u001b[0m \u001b[38;5;28mself\u001b[39m\u001b[38;5;241m.\u001b[39m_input_size \u001b[38;5;241m=\u001b[39m (\u001b[38;5;241m27\u001b[39m, \u001b[38;5;241m48\u001b[39m, \u001b[38;5;241m3\u001b[39m)\n\u001b[1;32m     17\u001b[0m \u001b[38;5;28;01mtry\u001b[39;00m:\n\u001b[0;32m---> 18\u001b[0m     \u001b[38;5;28mself\u001b[39m\u001b[38;5;241m.\u001b[39m_model \u001b[38;5;241m=\u001b[39m \u001b[43mtf\u001b[49m\u001b[38;5;241;43m.\u001b[39;49m\u001b[43msaved_model\u001b[49m\u001b[38;5;241m.\u001b[39mload(model_dir)\n\u001b[1;32m     19\u001b[0m \u001b[38;5;28;01mexcept\u001b[39;00m \u001b[38;5;167;01mOSError\u001b[39;00m \u001b[38;5;28;01mas\u001b[39;00m exc:\n\u001b[1;32m     20\u001b[0m     \u001b[38;5;28;01mraise\u001b[39;00m \u001b[38;5;167;01mIOError\u001b[39;00m(\u001b[38;5;124mf\u001b[39m\u001b[38;5;124m\"\u001b[39m\u001b[38;5;124m[TransNetV2] It seems that files in \u001b[39m\u001b[38;5;132;01m{\u001b[39;00mmodel_dir\u001b[38;5;132;01m}\u001b[39;00m\u001b[38;5;124m are corrupted or missing. \u001b[39m\u001b[38;5;124m\"\u001b[39m\n\u001b[1;32m     21\u001b[0m                   \u001b[38;5;124mf\u001b[39m\u001b[38;5;124m\"\u001b[39m\u001b[38;5;124mRe-download them manually and retry. For more info, see: \u001b[39m\u001b[38;5;124m\"\u001b[39m\n\u001b[1;32m     22\u001b[0m                   \u001b[38;5;124mf\u001b[39m\u001b[38;5;124m\"\u001b[39m\u001b[38;5;124mhttps://github.com/soCzech/TransNetV2/issues/1#issuecomment-647357796\u001b[39m\u001b[38;5;124m\"\u001b[39m) \u001b[38;5;28;01mfrom\u001b[39;00m \u001b[38;5;21;01mexc\u001b[39;00m\n",
      "\u001b[0;31mAttributeError\u001b[0m: module 'tensorflow' has no attribute 'saved_model'"
     ]
    }
   ],
   "source": [
    "os.makedirs('keyframes', exist_ok=True)\n",
    "os.makedirs('video', exist_ok=True)\n",
    "os.makedirs('map-keyframes', exist_ok=True)\n",
    "model = TransNetV2()"
   ]
  },
  {
   "cell_type": "code",
   "execution_count": 24,
   "metadata": {},
   "outputs": [
    {
     "data": {
      "text/plain": [
       "{'Videos_L01': 'https://atm249495-s3user.vcos.cloudstorage.com.vn/aic24-b5/Videos_L01.zip',\n",
       " 'Videos_L02': 'https://atm249496-s3user.vcos.cloudstorage.com.vn/aic24-b6/Videos_L02.zip',\n",
       " 'Videos_L03': 'https://atm249497-s3user.vcos.cloudstorage.com.vn/aic24-b7/Videos_L03.zip',\n",
       " 'Videos_L04': 'https://atm249498-s3user.vcos.cloudstorage.com.vn/aic24-b8/Videos_L04.zip',\n",
       " 'Videos_L05': 'https://atm249495-s3user.vcos.cloudstorage.com.vn/aic24-b5/Videos_L05.zip',\n",
       " 'Videos_L06': 'https://atm249496-s3user.vcos.cloudstorage.com.vn/aic24-b6/Videos_L06.zip',\n",
       " 'Videos_L07': 'https://atm249497-s3user.vcos.cloudstorage.com.vn/aic24-b7/Videos_L07.zip',\n",
       " 'Videos_L08': 'https://atm249498-s3user.vcos.cloudstorage.com.vn/aic24-b8/Videos_L08.zip',\n",
       " 'Videos_L09': 'https://atm249495-s3user.vcos.cloudstorage.com.vn/aic24-b5/Videos_L09.zip',\n",
       " 'Videos_L10': 'https://atm249496-s3user.vcos.cloudstorage.com.vn/aic24-b6/Videos_L10.zip',\n",
       " 'Videos_L11': 'https://atm249497-s3user.vcos.cloudstorage.com.vn/aic24-b7/Videos_L11.zip',\n",
       " 'Videos_L12': 'https://atm249498-s3user.vcos.cloudstorage.com.vn/aic24-b8/Videos_L12.zip'}"
      ]
     },
     "execution_count": 24,
     "metadata": {},
     "output_type": "execute_result"
    }
   ],
   "source": [
    "links = pd.read_csv(\"link_down_video.csv\")\n",
    "links = links[links['Type'] == 'Video']\n",
    "video_link_dict = {}\n",
    "\n",
    "for index, row in links.iterrows():\n",
    "    video_link_dict[row['Filename'][:-4]] = row['Direct Link']\n",
    "\n",
    "video_link_dict"
   ]
  },
  {
   "cell_type": "code",
   "execution_count": 29,
   "metadata": {},
   "outputs": [
    {
     "name": "stdout",
     "output_type": "stream",
     "text": [
      "['keyframes/keyframes_L10', 'keyframes/keyframes_L11', 'keyframes/keyframes_L05', 'keyframes/keyframes_L02', 'keyframes/keyframes_L03', 'keyframes/keyframes_L04', 'keyframes/keyframes_L12', 'keyframes/keyframes_L08', 'keyframes/keyframes_L01', 'keyframes/keyframes_L06', 'keyframes/keyframes_L07', 'keyframes/keyframes_L09']\n",
      "['keyframes/keyframes_L10', 'keyframes/keyframes_L11', 'keyframes/keyframes_L05', 'keyframes/keyframes_L02', 'keyframes/keyframes_L03', 'keyframes/keyframes_L04', 'keyframes/keyframes_L12', 'keyframes/keyframes_L08', 'keyframes/keyframes_L01', 'keyframes/keyframes_L06', 'keyframes/keyframes_L07', 'keyframes/keyframes_L09']\n",
      "['keyframes/keyframes_L10', 'keyframes/keyframes_L11', 'keyframes/keyframes_L05', 'keyframes/keyframes_L02', 'keyframes/keyframes_L03', 'keyframes/keyframes_L04', 'keyframes/keyframes_L12', 'keyframes/keyframes_L08', 'keyframes/keyframes_L01', 'keyframes/keyframes_L06', 'keyframes/keyframes_L07', 'keyframes/keyframes_L09']\n",
      "['keyframes/keyframes_L10', 'keyframes/keyframes_L11', 'keyframes/keyframes_L05', 'keyframes/keyframes_L02', 'keyframes/keyframes_L03', 'keyframes/keyframes_L04', 'keyframes/keyframes_L12', 'keyframes/keyframes_L08', 'keyframes/keyframes_L01', 'keyframes/keyframes_L06', 'keyframes/keyframes_L07', 'keyframes/keyframes_L09']\n",
      "['keyframes/keyframes_L10', 'keyframes/keyframes_L11', 'keyframes/keyframes_L05', 'keyframes/keyframes_L02', 'keyframes/keyframes_L03', 'keyframes/keyframes_L04', 'keyframes/keyframes_L12', 'keyframes/keyframes_L08', 'keyframes/keyframes_L01', 'keyframes/keyframes_L06', 'keyframes/keyframes_L07', 'keyframes/keyframes_L09']\n",
      "['keyframes/keyframes_L10', 'keyframes/keyframes_L11', 'keyframes/keyframes_L05', 'keyframes/keyframes_L02', 'keyframes/keyframes_L03', 'keyframes/keyframes_L04', 'keyframes/keyframes_L12', 'keyframes/keyframes_L08', 'keyframes/keyframes_L01', 'keyframes/keyframes_L06', 'keyframes/keyframes_L07', 'keyframes/keyframes_L09']\n",
      "['keyframes/keyframes_L10', 'keyframes/keyframes_L11', 'keyframes/keyframes_L05', 'keyframes/keyframes_L02', 'keyframes/keyframes_L03', 'keyframes/keyframes_L04', 'keyframes/keyframes_L12', 'keyframes/keyframes_L08', 'keyframes/keyframes_L01', 'keyframes/keyframes_L06', 'keyframes/keyframes_L07', 'keyframes/keyframes_L09']\n",
      "['keyframes/keyframes_L10', 'keyframes/keyframes_L11', 'keyframes/keyframes_L05', 'keyframes/keyframes_L02', 'keyframes/keyframes_L03', 'keyframes/keyframes_L04', 'keyframes/keyframes_L12', 'keyframes/keyframes_L08', 'keyframes/keyframes_L01', 'keyframes/keyframes_L06', 'keyframes/keyframes_L07', 'keyframes/keyframes_L09']\n",
      "['keyframes/keyframes_L10', 'keyframes/keyframes_L11', 'keyframes/keyframes_L05', 'keyframes/keyframes_L02', 'keyframes/keyframes_L03', 'keyframes/keyframes_L04', 'keyframes/keyframes_L12', 'keyframes/keyframes_L08', 'keyframes/keyframes_L01', 'keyframes/keyframes_L06', 'keyframes/keyframes_L07', 'keyframes/keyframes_L09']\n",
      "['keyframes/keyframes_L10', 'keyframes/keyframes_L11', 'keyframes/keyframes_L05', 'keyframes/keyframes_L02', 'keyframes/keyframes_L03', 'keyframes/keyframes_L04', 'keyframes/keyframes_L12', 'keyframes/keyframes_L08', 'keyframes/keyframes_L01', 'keyframes/keyframes_L06', 'keyframes/keyframes_L07', 'keyframes/keyframes_L09']\n",
      "['keyframes/keyframes_L10', 'keyframes/keyframes_L11', 'keyframes/keyframes_L05', 'keyframes/keyframes_L02', 'keyframes/keyframes_L03', 'keyframes/keyframes_L04', 'keyframes/keyframes_L12', 'keyframes/keyframes_L08', 'keyframes/keyframes_L01', 'keyframes/keyframes_L06', 'keyframes/keyframes_L07', 'keyframes/keyframes_L09']\n",
      "['keyframes/keyframes_L10', 'keyframes/keyframes_L11', 'keyframes/keyframes_L05', 'keyframes/keyframes_L02', 'keyframes/keyframes_L03', 'keyframes/keyframes_L04', 'keyframes/keyframes_L12', 'keyframes/keyframes_L08', 'keyframes/keyframes_L01', 'keyframes/keyframes_L06', 'keyframes/keyframes_L07', 'keyframes/keyframes_L09']\n"
     ]
    }
   ],
   "source": [
    "for video, link in video_link_dict.items():\n",
    "    # command = [\n",
    "    #     'aria2c', link, \n",
    "    #     '--dir', 'video', \n",
    "    #     '-s', '16',\n",
    "    #     '-x', '16', \n",
    "    # ]\n",
    "    # subprocess.run(command, check=True)\n",
    "\n",
    "    # command = ['unzip', f'{video}.zip', '-d', 'video']\n",
    "    # subprocess.run(command, check=True)\n",
    "\n",
    "    # os.rename('video/video', 'video/{video}')\n",
    "\n",
    "    L = video[-3:]\n",
    "    os.makedirs(f'keyframes/keyframes_{L}', exist_ok=True)\n",
    "\n",
    "    videos = glob(os.getcwd() + '/' + 'video/{video}/*.mp4')\n",
    "    videos.sort()\n",
    "    for sub_video in videos:\n",
    "        with open(f'map-keyframes/{sub_video}.csv', 'w') as file:\n",
    "                file.write('n,pts_time,fps,frame_idx')\n",
    "        video_frames, single_frame_predictions, all_frame_predictions = \\\n",
    "            model.predict_video(\"sub_video\")\n",
    "        frame_interval = model.predictions_to_scenes(single_frame_predictions)\n",
    "        for i, row in enumerate(frame_interval):\n",
    "            frame_id_extracted = int((row[0] + row[1])/2)\n",
    "            get_and_save_frame(sub_video, frame_id_extracted, f'keyframes/keyframes_{L}', f'{(i+1):03d}.jpg')\n",
    "            with open(f'map-keyframes/{sub_video}.csv', 'w') as file:\n",
    "                file.write(f'{i+1},{round(frame_id_extracted / 25.0, 2)},25.0,{frame_id_extracted}')"
   ]
  }
 ],
 "metadata": {
  "kernelspec": {
   "display_name": "Python 3",
   "language": "python",
   "name": "python3"
  },
  "language_info": {
   "codemirror_mode": {
    "name": "ipython",
    "version": 3
   },
   "file_extension": ".py",
   "mimetype": "text/x-python",
   "name": "python",
   "nbconvert_exporter": "python",
   "pygments_lexer": "ipython3",
   "version": "3.9.6"
  }
 },
 "nbformat": 4,
 "nbformat_minor": 2
}
