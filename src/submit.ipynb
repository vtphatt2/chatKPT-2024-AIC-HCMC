{
 "cells": [
  {
   "cell_type": "code",
   "execution_count": 39,
   "metadata": {},
   "outputs": [],
   "source": [
    "import os\n",
    "import json\n",
    "import pandas as pd"
   ]
  },
  {
   "cell_type": "code",
   "execution_count": 40,
   "metadata": {},
   "outputs": [
    {
     "name": "stdout",
     "output_type": "stream",
     "text": [
      "video:  L08_V027 , Link:  https://youtube.com/watch?v=vHffrpX2OP0&t=271\n",
      "Time:  4 : 31\n",
      "video:  L11_V008 , Link:  https://youtube.com/watch?v=ZADb-Nm_3VE&t=76\n",
      "Time:  1 : 16\n",
      "video:  L06_V001 , Link:  https://youtube.com/watch?v=2oQv-dIymc8&t=98\n",
      "Time:  1 : 38\n",
      "video:  L08_V011 , Link:  https://youtube.com/watch?v=ssOeoyxCs1g&t=288\n",
      "Time:  4 : 48\n"
     ]
    }
   ],
   "source": [
    "\n",
    "folder = {}\n",
    "folder2 = {}\n",
    "while True:\n",
    "    url = {}\n",
    "    check = False\n",
    "    x = input(\"video\")\n",
    "    y = int(input(\"frame_id\"))\n",
    "    \n",
    "    \n",
    "    a = x[1:3]\n",
    "    a = int(a)\n",
    "    \n",
    "    if a<13:\n",
    "        folder = \"../data/batch1/metadata\"\n",
    "        folder2 = \"../data/batch1/map-keyframes\"\n",
    "    else:\n",
    "        folder = \"../data/batch2/metadata\"\n",
    "        folder2 = \"../data/batch2/map-keyframes\"\n",
    "    for filename in os.listdir(folder):\n",
    "        if filename.endswith(\".json\") and filename.startswith(x):\n",
    "            with open(os.path.join(folder, filename), 'r', encoding='utf-8') as f:\n",
    "                data = json.load(f)\n",
    "                url = data[\"watch_url\"]+ '&t=' + str(y//25)\n",
    "                print(\"video: \",x,\", Link: \",url,)\n",
    "                check=True\n",
    "            break\n",
    "    \n",
    "    if check == False:\n",
    "        print(\"Video not found\")\n",
    "    else:\n",
    "        # for filename in os.listdir(folder2):\n",
    "        #     if filename.endswith(\".csv\") and filename.startswith(x):\n",
    "        #         with open(os.path.join(folder, filename), 'r', encoding='utf-8') as f:\n",
    "        #             data = csv.reader(f)\n",
    "        #             c = data[\"fps\"]\n",
    "        a= y/25\n",
    "        minutes = int(a/60)\n",
    "        seconds = int(a%60)\n",
    "        print(\"Time: \", minutes, \":\", seconds)"
   ]
  }
 ],
 "metadata": {
  "kernelspec": {
   "display_name": "Python 3",
   "language": "python",
   "name": "python3"
  },
  "language_info": {
   "codemirror_mode": {
    "name": "ipython",
    "version": 3
   },
   "file_extension": ".py",
   "mimetype": "text/x-python",
   "name": "python",
   "nbconvert_exporter": "python",
   "pygments_lexer": "ipython3",
   "version": "3.12.0"
  }
 },
 "nbformat": 4,
 "nbformat_minor": 2
}
